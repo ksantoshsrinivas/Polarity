{
 "cells": [
  {
   "cell_type": "markdown",
   "metadata": {},
   "source": [
    "# Polarity analysis of Fine Food reviews\n",
    "\n",
    "This dataset consists of a single CSV file, Reviews.csv, and a corresponding SQLite table named Reviews in database.sqlite. The columns in the table are:\n",
    "\n",
    "This dataset consists of reviews of fine foods. The data span a period of more than 10 years, including all ~500,000 reviews up to October 2012. Reviews include product and user information, ratings, and a plaintext review. We also have reviews from all other Amazon categories. \n",
    "\n",
    "<table>\n",
    "  <tr>\n",
    "    <th colspan=\"2\">Dataset Statistics</th>\n",
    "  </tr>\n",
    "  <tr>\n",
    "    <td align=\"center\">Number of reviews</td>\n",
    "    <td>568,454</td> \n",
    "  </tr>\n",
    "  <tr>\n",
    "    <td>Number of users</td>\n",
    "    <td>256,059</td> \n",
    "  </tr>\n",
    "  <tr>\n",
    "    <td>Number of products</td>\n",
    "    <td>74,258</td>\n",
    "  </tr>\n",
    "  <tr>\n",
    "    <td>Users with > 50 reviews</td>\n",
    "    <td>260</td>\n",
    "  </tr>\n",
    "  <tr>\n",
    "    <td>Median no. of words per review</td>\n",
    "    <td>56</td>\n",
    "  </tr>\n",
    "  <tr>\n",
    "    <td> Timespan</td>\n",
    "    <td>Oct 1999 - Oct 2012</td>\n",
    "  <tr>\n",
    "</table>\n",
    "\n",
    "There are 10 attributes including Score in the dataset \n",
    "1. Id\n",
    "2. ProductId - unique identifier for the product\n",
    "3. UserId - unqiue identifier for the user\n",
    "4. ProfileName\n",
    "5. HelpfulnessNumerator - number of users who found the review helpful\n",
    "6. HelpfulnessDenominator - number of users who indicated whether they found the review helpful\n",
    "7. Score - rating between 1 and 5\n",
    "8. Time - timestamp for the review\n",
    "9. Summary - brief summary of the review\n",
    "10. Text - text of the review"
   ]
  },
  {
   "cell_type": "markdown",
   "metadata": {
    "collapsed": true
   },
   "source": [
    "## Loading the data\n",
    "\n",
    "The dataset is available in two forms\n",
    "1. .csv file\n",
    "2. SQLite Database\n",
    "\n",
    "Since we want to analyse polarity of each review as \"positive\" or \"negative\", we purposefully ignore all Scores equal to \"3\". If the Score is above 3, then the polarity will be set to \"positive\". Otherwise, it will be set to \"negative\". We shall filter all the reviews having Score 3, we consider these reviews as \"neutral\"\n",
    "\n",
    "Let's load the dataset and preview few datapoints. "
   ]
  },
  {
   "cell_type": "code",
   "execution_count": 1,
   "metadata": {
    "collapsed": true
   },
   "outputs": [],
   "source": [
    "import sqlite3\n",
    "import pandas as pd\n",
    "import numpy as np\n",
    "\n",
    "from datetime import datetime"
   ]
  },
  {
   "cell_type": "code",
   "execution_count": 3,
   "metadata": {},
   "outputs": [
    {
     "data": {
      "text/plain": [
       "(525814, 10)"
      ]
     },
     "execution_count": 3,
     "metadata": {},
     "output_type": "execute_result"
    }
   ],
   "source": [
    "# Establising connection to the SQLite database\n",
    "conn = sqlite3.connect('amazon-fine-food-reviews/database.sqlite')\n",
    "\n",
    "data = pd.read_sql_query(\"SELECT * FROM Reviews where Score != 3\", conn)\n",
    "data.shape"
   ]
  },
  {
   "cell_type": "code",
   "execution_count": 4,
   "metadata": {},
   "outputs": [
    {
     "data": {
      "text/html": [
       "<div>\n",
       "<style>\n",
       "    .dataframe thead tr:only-child th {\n",
       "        text-align: right;\n",
       "    }\n",
       "\n",
       "    .dataframe thead th {\n",
       "        text-align: left;\n",
       "    }\n",
       "\n",
       "    .dataframe tbody tr th {\n",
       "        vertical-align: top;\n",
       "    }\n",
       "</style>\n",
       "<table border=\"1\" class=\"dataframe\">\n",
       "  <thead>\n",
       "    <tr style=\"text-align: right;\">\n",
       "      <th></th>\n",
       "      <th>Id</th>\n",
       "      <th>ProductId</th>\n",
       "      <th>UserId</th>\n",
       "      <th>ProfileName</th>\n",
       "      <th>HelpfulnessNumerator</th>\n",
       "      <th>HelpfulnessDenominator</th>\n",
       "      <th>Score</th>\n",
       "      <th>Time</th>\n",
       "      <th>Summary</th>\n",
       "      <th>Text</th>\n",
       "    </tr>\n",
       "  </thead>\n",
       "  <tbody>\n",
       "    <tr>\n",
       "      <th>0</th>\n",
       "      <td>1</td>\n",
       "      <td>B001E4KFG0</td>\n",
       "      <td>A3SGXH7AUHU8GW</td>\n",
       "      <td>delmartian</td>\n",
       "      <td>1</td>\n",
       "      <td>1</td>\n",
       "      <td>positive</td>\n",
       "      <td>27-04-2011</td>\n",
       "      <td>Good Quality Dog Food</td>\n",
       "      <td>I have bought several of the Vitality canned d...</td>\n",
       "    </tr>\n",
       "    <tr>\n",
       "      <th>1</th>\n",
       "      <td>2</td>\n",
       "      <td>B00813GRG4</td>\n",
       "      <td>A1D87F6ZCVE5NK</td>\n",
       "      <td>dll pa</td>\n",
       "      <td>0</td>\n",
       "      <td>0</td>\n",
       "      <td>negative</td>\n",
       "      <td>07-09-2012</td>\n",
       "      <td>Not as Advertised</td>\n",
       "      <td>Product arrived labeled as Jumbo Salted Peanut...</td>\n",
       "    </tr>\n",
       "    <tr>\n",
       "      <th>2</th>\n",
       "      <td>3</td>\n",
       "      <td>B000LQOCH0</td>\n",
       "      <td>ABXLMWJIXXAIN</td>\n",
       "      <td>Natalia Corres \"Natalia Corres\"</td>\n",
       "      <td>1</td>\n",
       "      <td>1</td>\n",
       "      <td>positive</td>\n",
       "      <td>18-08-2008</td>\n",
       "      <td>\"Delight\" says it all</td>\n",
       "      <td>This is a confection that has been around a fe...</td>\n",
       "    </tr>\n",
       "    <tr>\n",
       "      <th>3</th>\n",
       "      <td>4</td>\n",
       "      <td>B000UA0QIQ</td>\n",
       "      <td>A395BORC6FGVXV</td>\n",
       "      <td>Karl</td>\n",
       "      <td>3</td>\n",
       "      <td>3</td>\n",
       "      <td>negative</td>\n",
       "      <td>13-06-2011</td>\n",
       "      <td>Cough Medicine</td>\n",
       "      <td>If you are looking for the secret ingredient i...</td>\n",
       "    </tr>\n",
       "    <tr>\n",
       "      <th>4</th>\n",
       "      <td>5</td>\n",
       "      <td>B006K2ZZ7K</td>\n",
       "      <td>A1UQRSCLF8GW1T</td>\n",
       "      <td>Michael D. Bigham \"M. Wassir\"</td>\n",
       "      <td>0</td>\n",
       "      <td>0</td>\n",
       "      <td>positive</td>\n",
       "      <td>21-10-2012</td>\n",
       "      <td>Great taffy</td>\n",
       "      <td>Great taffy at a great price.  There was a wid...</td>\n",
       "    </tr>\n",
       "  </tbody>\n",
       "</table>\n",
       "</div>"
      ],
      "text/plain": [
       "   Id   ProductId          UserId                      ProfileName  \\\n",
       "0   1  B001E4KFG0  A3SGXH7AUHU8GW                       delmartian   \n",
       "1   2  B00813GRG4  A1D87F6ZCVE5NK                           dll pa   \n",
       "2   3  B000LQOCH0   ABXLMWJIXXAIN  Natalia Corres \"Natalia Corres\"   \n",
       "3   4  B000UA0QIQ  A395BORC6FGVXV                             Karl   \n",
       "4   5  B006K2ZZ7K  A1UQRSCLF8GW1T    Michael D. Bigham \"M. Wassir\"   \n",
       "\n",
       "   HelpfulnessNumerator  HelpfulnessDenominator     Score        Time  \\\n",
       "0                     1                       1  positive  27-04-2011   \n",
       "1                     0                       0  negative  07-09-2012   \n",
       "2                     1                       1  positive  18-08-2008   \n",
       "3                     3                       3  negative  13-06-2011   \n",
       "4                     0                       0  positive  21-10-2012   \n",
       "\n",
       "                 Summary                                               Text  \n",
       "0  Good Quality Dog Food  I have bought several of the Vitality canned d...  \n",
       "1      Not as Advertised  Product arrived labeled as Jumbo Salted Peanut...  \n",
       "2  \"Delight\" says it all  This is a confection that has been around a fe...  \n",
       "3         Cough Medicine  If you are looking for the secret ingredient i...  \n",
       "4            Great taffy  Great taffy at a great price.  There was a wid...  "
      ]
     },
     "execution_count": 4,
     "metadata": {},
     "output_type": "execute_result"
    }
   ],
   "source": [
    "# Normalizing the Score vector\n",
    "# If the score is less than 3, then it is Negative review.\n",
    "# Else it is a positive review.\n",
    "\n",
    "def normalize_polarity(x):\n",
    "    if x < 3:\n",
    "        return 'negative'\n",
    "    return 'positive'\n",
    "\n",
    "# Converting the Time vector to readable from UNIX format \n",
    "def normalize_time(x):\n",
    "    date = datetime.fromtimestamp(int(x))\n",
    "    date = date.strftime('%d-%m-%Y')\n",
    "    return str(date)\n",
    "\n",
    "Score = data['Score']\n",
    "Score = Score.map(normalize_polarity)\n",
    "data['Score'] = Score\n",
    "\n",
    "Time = data['Time']\n",
    "Time = Time.map(normalize_time)\n",
    "data['Time'] = Time\n",
    "\n",
    "data.head()"
   ]
  },
  {
   "cell_type": "markdown",
   "metadata": {},
   "source": [
    "## Removing Duplicates\n",
    "\n",
    "It is observed that there are some duplicate reviews in the given data. So, it is necessary to remove duplicates in order to get unbiased results for the analysis of data.\n",
    "\n",
    "** What columns are to be considered for removal of duplicates?**\n"
   ]
  },
  {
   "cell_type": "code",
   "execution_count": 5,
   "metadata": {
    "collapsed": true
   },
   "outputs": [],
   "source": [
    "# Sorting data by ProductId\n",
    "sorted_data = data.sort_values('ProductId', axis=0, ascending=True, inplace=False, kind='heapsort', na_position='last')"
   ]
  },
  {
   "cell_type": "code",
   "execution_count": 6,
   "metadata": {
    "scrolled": true
   },
   "outputs": [
    {
     "data": {
      "text/plain": [
       "(364173, 10)"
      ]
     },
     "execution_count": 6,
     "metadata": {},
     "output_type": "execute_result"
    }
   ],
   "source": [
    "final = sorted_data.drop_duplicates(subset={\"UserId\", \"ProfileName\", \"Time\", \"Text\"}, keep='first', inplace=False)\n",
    "final.shape"
   ]
  },
  {
   "cell_type": "code",
   "execution_count": 7,
   "metadata": {},
   "outputs": [
    {
     "data": {
      "text/plain": [
       "(364173, 10)"
      ]
     },
     "execution_count": 7,
     "metadata": {},
     "output_type": "execute_result"
    }
   ],
   "source": [
    "# Removing reviews which has\n",
    "# number of users who found the review helpful < number of users who indicated whether they found the review helpful\n",
    "\n",
    "final = final[final.HelpfulnessNumerator <= final.HelpfulnessNumerator]\n",
    "final.shape"
   ]
  },
  {
   "cell_type": "markdown",
   "metadata": {},
   "source": [
    "Q1. Please analyse the data, plot the required graphs to show that these conclusions are true\n",
    "1. Positive reviews are very common.\n",
    "2. Positive reviews are shorter.\n",
    "3. Longer reviews are more helpful.\n",
    "4. Despite being more common and shorter, positive reviews are found more helpful.\n",
    "5. Frequent reviewers are more discerning in their ratings, write longer reviews, and write more helpful reviews."
   ]
  },
  {
   "cell_type": "code",
   "execution_count": 8,
   "metadata": {
    "collapsed": true
   },
   "outputs": [],
   "source": [
    "pos_data = final[final['Score']=='positive']\n",
    "neg_data = final[final['Score']=='negative']"
   ]
  },
  {
   "cell_type": "code",
   "execution_count": 9,
   "metadata": {},
   "outputs": [
    {
     "name": "stdout",
     "output_type": "stream",
     "text": [
      "Number of positive reviews:  307063\n",
      "Number of negative reviews:  57110\n"
     ]
    }
   ],
   "source": [
    "print \"Number of positive reviews: \",len(pos_data)\n",
    "print \"Number of negative reviews: \",len(neg_data)"
   ]
  },
  {
   "cell_type": "markdown",
   "metadata": {},
   "source": [
    "## Text Preprocessing\n",
    "\n",
    "Now we need to preprocess the text before analysing it and predicting the model. The steps followed in the text preprocessing are: Our main aim is to find the adjectives which can define the polarity of the reviews. In English literature, it is known that there are no adjectives of length less than or equal to 2. \n",
    "\n",
    "1. Tokenization (Removing punctuations, \n",
    "    1. White Space tokenizer\n",
    "    2. Penn Treebank tokenizer\n",
    "    3. Sentiment-aware tokenizer \n",
    "         * Chistopher Potts (HappyFunTokenizer) tokenizer considers all the tokens from NLTK's TweetTokenizer, and add/changes\n",
    "             * HTML feature tokenization (tags like <\\br>)\n",
    "             * Does not split contractions -- we're, they're, I'd, ...\n",
    "             * Captures masked curses $#iT -- Shit, F**k, etc\n",
    "             * Regularizes lengthening (Coooooool--> Coool)\n",
    "             * Captures multi word expressions --> out of this world, state-of-the-art, etc.\n",
    "             * Import happyfuntokenizing.py and call tokenize() with a sentence. \n",
    "2. Removal of stop words (If we use TF-IDF for featurization, we do not need to remove stop words).\n",
    "3. Case folding\n",
    "4. Stemming/Lemmatization -- Porter Stemmer/Lancaster Stemmer"
   ]
  },
  {
   "cell_type": "code",
   "execution_count": 13,
   "metadata": {
    "collapsed": true
   },
   "outputs": [],
   "source": [
    "import string\n",
    "import sys\n",
    "import re\n",
    "import nltk\n",
    "from nltk.corpus import stopwords\n",
    "#from nltk.stem.wordnet import WordNetLemmatizer\n",
    "from bs4 import BeautifulSoup\n",
    "from nltk.tokenize import word_tokenize\n",
    "from __future__ import unicode_literals # To suppress u'' before every string\n",
    "sys.displayhook()\n",
    "from nltk.stem import SnowballStemmer\n",
    "\n",
    "stop = set(stopwords.words('english'))\n",
    "#lmtzr = WordNetLemmatizer()\n",
    "stemmer = SnowballStemmer('english')"
   ]
  },
  {
   "cell_type": "code",
   "execution_count": 16,
   "metadata": {},
   "outputs": [
    {
     "name": "stdout",
     "output_type": "stream",
     "text": [
      "11806496\n",
      "2383262\n",
      "364173\n"
     ]
    }
   ],
   "source": [
    "# Case folding\n",
    "# We use lemmatizer as it give lexically accurate head (base) word. \n",
    "# Removal of stop words\n",
    "\n",
    "#import happyfuntokenizing.py as tk\n",
    "#import nltk\n",
    "# Initializing the sentiment-aware tokenizer\n",
    "\n",
    "# tok = Tokenizer(preserve_case = False) \n",
    "# tok = word_tokenize()\n",
    "\n",
    "# We have segregated positive and negative reviews in two different dataframes\n",
    "# For each review in pos_data, we preprocess the text and save the postive words in a list\n",
    "# For each review in neg_data, we preprocess the text and save the negative words in a list\n",
    "all_pos_words = []\n",
    "all_neg_words = []\n",
    "sentences = []\n",
    "i = 0\n",
    "for sentence in final['Text'].values:\n",
    "    filtered_sentence = []\n",
    "    sentence = BeautifulSoup(sentence, \"html5lib\").get_text()  # Removing HTML tags\n",
    "    sentence = re.sub(r\"[0-9_/\\W]+\", \" \", sentence)   #Remove all digits,punctuation,special characters,spaces\n",
    "    #sentence = re.sub('\\W+', ' ', sentence)          \n",
    "    tokens = word_tokenize(sentence)                # Tokenization and casefolding \n",
    "    tokens = [stemmer.stem(word.lower()) for word in tokens]  # Snowball Stemmer instead of lemmatizer\n",
    "    #tokens = [lmtzr.lemmatize(word.lower(),'v') for word in tokens]    # Lemmatization\n",
    "    if (final['Score'].values)[i] == 'positive':\n",
    "        for word in tokens:\n",
    "            # Removal of stop words and the words of length less than 2\n",
    "            if word not in stop and len(word) > 2:\n",
    "                all_pos_words.append(word.encode('utf-8', \"ignore\"))\n",
    "                filtered_sentence.append(word.encode('utf-8', \"ignore\"))\n",
    "    else:sudo apt-get autoclean\n",
    "        for word in tokens:\n",
    "            # Removal of stop words and the words of length less than 2\n",
    "            if word not in stop and len(word) > 2:\n",
    "                all_neg_words.append(word.encode('utf-8', \"ignore\"))\n",
    "                filtered_sentence.append(word.encode('utf-8', \"ignore\"))\n",
    "    sentences.append(filtered_sentence)\n",
    "    i+=1\n",
    "print len(all_pos_words)\n",
    "print len(all_neg_words)\n",
    "print len(sentences)\n",
    "#[lmtzr.lemmatize(word,'v') for word in l]"
   ]
  },
  {
   "cell_type": "code",
   "execution_count": 19,
   "metadata": {},
   "outputs": [
    {
     "name": "stdout",
     "output_type": "stream",
     "text": [
      "The total  number of tokens appeared in positive reviews :  11806496\n",
      "The total  number of tokens appeared in negative reviews :  2383262\n"
     ]
    }
   ],
   "source": [
    "print \"The total  number of tokens appeared in positive reviews : \",len(all_pos_words)\n",
    "print \"The total  number of tokens appeared in negative reviews : \",len(all_neg_words)"
   ]
  },
  {
   "cell_type": "code",
   "execution_count": 20,
   "metadata": {},
   "outputs": [
    {
     "name": "stdout",
     "output_type": "stream",
     "text": [
      "5 Most common positive words : [('like', 140956), ('tast', 131058), ('good', 113687), ('flavor', 111425), ('love', 107658)]\n",
      "5 Most common negative words : [('tast', 35136), ('like', 32771), ('product', 28651), ('one', 20766), ('flavor', 19981)]\n"
     ]
    }
   ],
   "source": [
    "# Now we shall count the frequency of each word in all_pos_words and all_neg_words\n",
    "all_pos_freq = nltk.FreqDist(all_pos_words)\n",
    "all_neg_freq = nltk.FreqDist(all_neg_words)\n",
    "print \"5 Most common positive words :\", all_pos_freq.most_common(5)\n",
    "print \"5 Most common negative words :\", all_neg_freq.most_common(5)"
   ]
  },
  {
   "cell_type": "code",
   "execution_count": 21,
   "metadata": {},
   "outputs": [
    {
     "name": "stdout",
     "output_type": "stream",
     "text": [
      "Total number of unique positive words is : 78593\n",
      "Total number of unique negative words is : 32684\n",
      "Total number of unique words in the reviews is : 88020\n"
     ]
    }
   ],
   "source": [
    "unique_pos_words = list(set(all_pos_words))\n",
    "unique_neg_words = list(set(all_neg_words))\n",
    "all_words = unique_pos_words + unique_neg_words\n",
    "unique_words = set(all_words)\n",
    "print \"Total number of unique positive words is :\", len(unique_pos_words)\n",
    "print \"Total number of unique negative words is :\", len(unique_neg_words)\n",
    "print \"Total number of unique words in the reviews is :\", len(unique_words)"
   ]
  },
  {
   "cell_type": "markdown",
   "metadata": {},
   "source": [
    "Now we can see that there are around 88K unique words in around 350K reviews. We need to featurize the textual words into some form on which we can apply the machine learning algorithms. \n",
    "\n",
    "For featurizing the words to digits, we can use:\n",
    "1. Bag of words model\n",
    "    1. Binary vectors\n",
    "    2. Frequency count vector\n",
    "2. word2vec\n",
    "    1. Takes a set of sentences as input and produces word embeddings\n",
    "3. tf-idf"
   ]
  },
  {
   "cell_type": "code",
   "execution_count": 180,
   "metadata": {
    "collapsed": true
   },
   "outputs": [],
   "source": [
    "# Saving the unique_words in a file\n",
    "import pickle\n",
    "\n",
    "with open('unique_pos_words', 'wb') as fp:\n",
    "    pickle.dump(unique_pos_words, fp)\n",
    "\n",
    "with open('unique_neg_words', 'wb') as fp1:\n",
    "    pickle.dump(unique_neg_words, fp1)"
   ]
  },
  {
   "cell_type": "code",
   "execution_count": 181,
   "metadata": {
    "collapsed": true
   },
   "outputs": [],
   "source": [
    "fp.close()\n",
    "fp1.close()"
   ]
  },
  {
   "cell_type": "code",
   "execution_count": 177,
   "metadata": {
    "collapsed": true
   },
   "outputs": [],
   "source": [
    "with open ('unique_pos_words', 'rb') as fp:\n",
    "    unique_pos_words = pickle.load(fp)\n",
    "\n",
    "with open ('unique_neg_words', 'rb') as fp1:\n",
    "    unique_neg_words = pickle.load(fp1)\n"
   ]
  },
  {
   "cell_type": "markdown",
   "metadata": {},
   "source": [
    "Before training the model, partition the dataset into train and test data."
   ]
  },
  {
   "cell_type": "code",
   "execution_count": 128,
   "metadata": {
    "collapsed": true
   },
   "outputs": [],
   "source": [
    "final_clean = final\n",
    "final_clean['Clean_text'] = sentences # Appending a new column \"Clean_text\" to the final DataFrame"
   ]
  },
  {
   "cell_type": "code",
   "execution_count": 129,
   "metadata": {},
   "outputs": [
    {
     "data": {
      "text/html": [
       "<div>\n",
       "<style>\n",
       "    .dataframe thead tr:only-child th {\n",
       "        text-align: right;\n",
       "    }\n",
       "\n",
       "    .dataframe thead th {\n",
       "        text-align: left;\n",
       "    }\n",
       "\n",
       "    .dataframe tbody tr th {\n",
       "        vertical-align: top;\n",
       "    }\n",
       "</style>\n",
       "<table border=\"1\" class=\"dataframe\">\n",
       "  <thead>\n",
       "    <tr style=\"text-align: right;\">\n",
       "      <th></th>\n",
       "      <th>Id</th>\n",
       "      <th>ProductId</th>\n",
       "      <th>UserId</th>\n",
       "      <th>ProfileName</th>\n",
       "      <th>HelpfulnessNumerator</th>\n",
       "      <th>HelpfulnessDenominator</th>\n",
       "      <th>Score</th>\n",
       "      <th>Time</th>\n",
       "      <th>Summary</th>\n",
       "      <th>Text</th>\n",
       "      <th>Clean_text</th>\n",
       "    </tr>\n",
       "  </thead>\n",
       "  <tbody>\n",
       "    <tr>\n",
       "      <th>138696</th>\n",
       "      <td>150514</td>\n",
       "      <td>0006641040</td>\n",
       "      <td>A2ONB6ZA292PA</td>\n",
       "      <td>Rosalind Matzner</td>\n",
       "      <td>0</td>\n",
       "      <td>0</td>\n",
       "      <td>positive</td>\n",
       "      <td>21-08-2011</td>\n",
       "      <td>Chicken soup with Rice</td>\n",
       "      <td>It's a great book with adorable illustrations....</td>\n",
       "      <td>[great, book, ador, illustr, true, classic, ki...</td>\n",
       "    </tr>\n",
       "    <tr>\n",
       "      <th>138682</th>\n",
       "      <td>150500</td>\n",
       "      <td>0006641040</td>\n",
       "      <td>A1IJKK6Q1GTEAY</td>\n",
       "      <td>A Customer</td>\n",
       "      <td>2</td>\n",
       "      <td>2</td>\n",
       "      <td>positive</td>\n",
       "      <td>26-12-2001</td>\n",
       "      <td>It Was a favorite!</td>\n",
       "      <td>This was a favorite book of mine when I was a ...</td>\n",
       "      <td>[favorit, book, mine, littl, girl, would, read...</td>\n",
       "    </tr>\n",
       "    <tr>\n",
       "      <th>138692</th>\n",
       "      <td>150510</td>\n",
       "      <td>0006641040</td>\n",
       "      <td>AM1MNZMYMS7D8</td>\n",
       "      <td>Dr. Joshua  Grossman</td>\n",
       "      <td>0</td>\n",
       "      <td>0</td>\n",
       "      <td>positive</td>\n",
       "      <td>23-09-2012</td>\n",
       "      <td>Professional Mentoring</td>\n",
       "      <td>TITLE: Chicken Soup with Rice&lt;br /&gt;AUTHOR: Mau...</td>\n",
       "      <td>[titl, chicken, soup, riceauthor, mauric, send...</td>\n",
       "    </tr>\n",
       "    <tr>\n",
       "      <th>138695</th>\n",
       "      <td>150513</td>\n",
       "      <td>0006641040</td>\n",
       "      <td>ASH0DZQQF6AIZ</td>\n",
       "      <td>tessarat</td>\n",
       "      <td>0</td>\n",
       "      <td>0</td>\n",
       "      <td>positive</td>\n",
       "      <td>05-01-2012</td>\n",
       "      <td>A classic</td>\n",
       "      <td>I remembered this book from my childhood and g...</td>\n",
       "      <td>[rememb, book, childhood, got, kid, good, reme...</td>\n",
       "    </tr>\n",
       "    <tr>\n",
       "      <th>138697</th>\n",
       "      <td>150515</td>\n",
       "      <td>0006641040</td>\n",
       "      <td>A2RTT81R6Y3R7X</td>\n",
       "      <td>Lindylu</td>\n",
       "      <td>0</td>\n",
       "      <td>0</td>\n",
       "      <td>positive</td>\n",
       "      <td>19-04-2011</td>\n",
       "      <td>One of our family's favorite books</td>\n",
       "      <td>This book is a family favorite and was read to...</td>\n",
       "      <td>[book, famili, favorit, read, children, small,...</td>\n",
       "    </tr>\n",
       "  </tbody>\n",
       "</table>\n",
       "</div>"
      ],
      "text/plain": [
       "            Id   ProductId          UserId           ProfileName  \\\n",
       "138696  150514  0006641040   A2ONB6ZA292PA      Rosalind Matzner   \n",
       "138682  150500  0006641040  A1IJKK6Q1GTEAY            A Customer   \n",
       "138692  150510  0006641040   AM1MNZMYMS7D8  Dr. Joshua  Grossman   \n",
       "138695  150513  0006641040   ASH0DZQQF6AIZ              tessarat   \n",
       "138697  150515  0006641040  A2RTT81R6Y3R7X               Lindylu   \n",
       "\n",
       "        HelpfulnessNumerator  HelpfulnessDenominator     Score        Time  \\\n",
       "138696                     0                       0  positive  21-08-2011   \n",
       "138682                     2                       2  positive  26-12-2001   \n",
       "138692                     0                       0  positive  23-09-2012   \n",
       "138695                     0                       0  positive  05-01-2012   \n",
       "138697                     0                       0  positive  19-04-2011   \n",
       "\n",
       "                                   Summary  \\\n",
       "138696              Chicken soup with Rice   \n",
       "138682                  It Was a favorite!   \n",
       "138692              Professional Mentoring   \n",
       "138695                           A classic   \n",
       "138697  One of our family's favorite books   \n",
       "\n",
       "                                                     Text  \\\n",
       "138696  It's a great book with adorable illustrations....   \n",
       "138682  This was a favorite book of mine when I was a ...   \n",
       "138692  TITLE: Chicken Soup with Rice<br />AUTHOR: Mau...   \n",
       "138695  I remembered this book from my childhood and g...   \n",
       "138697  This book is a family favorite and was read to...   \n",
       "\n",
       "                                               Clean_text  \n",
       "138696  [great, book, ador, illustr, true, classic, ki...  \n",
       "138682  [favorit, book, mine, littl, girl, would, read...  \n",
       "138692  [titl, chicken, soup, riceauthor, mauric, send...  \n",
       "138695  [rememb, book, childhood, got, kid, good, reme...  \n",
       "138697  [book, famili, favorit, read, children, small,...  "
      ]
     },
     "execution_count": 129,
     "metadata": {},
     "output_type": "execute_result"
    }
   ],
   "source": [
    "final_clean.head()"
   ]
  },
  {
   "cell_type": "code",
   "execution_count": 170,
   "metadata": {
    "collapsed": true
   },
   "outputs": [],
   "source": [
    "# Dividing the text as train and test data\n",
    "# Taking out the top 70% of the data as train_set and rest as test_set\n",
    "\n",
    "train_set = final.iloc[:int(0.7*len(final)),[0, 8, 9, 10]]#'Text','Summary','Clean_text','Score')]\n",
    "train_label = final.iloc[:int(0.7*len(final)), [6]]\n",
    "\n",
    "test_set = final.iloc[int(0.7*len(final)):,[0, 8, 9, 10]]\n",
    "test_label = final.iloc[int(0.7*len(final)):, [6]]"
   ]
  },
  {
   "cell_type": "markdown",
   "metadata": {},
   "source": [
    "Now we have got the training and test datasets, we featurize the clean_text words in training dataset. Word2Vec does not need labels in order to create meaningful representations. This is useful, since most data in the real world is unlabeled. If the network is given enough training data (tens of billions of words), it produces word vectors with intriguing characteristics. Words with similar meanings appear in clusters, and clusters are spaced such that some word relationships, such as analogies, can be reproduced using vector math. The famous example is that, with highly trained word vectors, \"king - man + woman = queen.\" \n",
    "\n",
    "We segregate the sentences from train_set and test_set "
   ]
  },
  {
   "cell_type": "code",
   "execution_count": 173,
   "metadata": {},
   "outputs": [
    {
     "name": "stdout",
     "output_type": "stream",
     "text": [
      "254921\n",
      "109252\n"
     ]
    }
   ],
   "source": [
    "print len(sentences[:int(0.7*len(final))])\n",
    "print len(sentences[int(0.7*len(final)):])"
   ]
  },
  {
   "cell_type": "code",
   "execution_count": 174,
   "metadata": {
    "collapsed": true
   },
   "outputs": [],
   "source": [
    "# Training a word2vec model\n",
    "# Import the built-in logging module and configure it so that Word2Vec \n",
    "# creates nice output messages\n",
    "import logging\n",
    "logging.basicConfig(format='%(asctime)s : %(levelname)s : %(message)s',\\\n",
    "    level=logging.INFO)\n",
    "\n",
    "# Set values for various parameters\n",
    "num_features = 300    # Word vector dimensionality                      \n",
    "min_word_count = 40   # Minimum word count                        \n",
    "num_workers = 4       # Number of threads to run in parallel\n",
    "context = 10          # Context window size                  "
   ]
  },
  {
   "cell_type": "code",
   "execution_count": 180,
   "metadata": {},
   "outputs": [
    {
     "name": "stderr",
     "output_type": "stream",
     "text": [
      "2017-08-26 15:26:44,673 : INFO : collecting all words and their counts\n",
      "2017-08-26 15:26:44,675 : INFO : PROGRESS: at sentence #0, processed 0 words, keeping 0 word types\n",
      "2017-08-26 15:26:44,844 : INFO : PROGRESS: at sentence #10000, processed 406458 words, keeping 15137 word types\n"
     ]
    },
    {
     "name": "stdout",
     "output_type": "stream",
     "text": [
      "Training model...\n"
     ]
    },
    {
     "name": "stderr",
     "output_type": "stream",
     "text": [
      "2017-08-26 15:26:45,005 : INFO : PROGRESS: at sentence #20000, processed 792835 words, keeping 21235 word types\n",
      "2017-08-26 15:26:45,153 : INFO : PROGRESS: at sentence #30000, processed 1185164 words, keeping 25383 word types\n",
      "2017-08-26 15:26:45,291 : INFO : PROGRESS: at sentence #40000, processed 1562241 words, keeping 28469 word types\n",
      "2017-08-26 15:26:45,432 : INFO : PROGRESS: at sentence #50000, processed 1932614 words, keeping 31015 word types\n",
      "2017-08-26 15:26:45,572 : INFO : PROGRESS: at sentence #60000, processed 2283037 words, keeping 33361 word types\n",
      "2017-08-26 15:26:45,724 : INFO : PROGRESS: at sentence #70000, processed 2668751 words, keeping 35886 word types\n",
      "2017-08-26 15:26:45,856 : INFO : PROGRESS: at sentence #80000, processed 3026757 words, keeping 38071 word types\n",
      "2017-08-26 15:26:45,984 : INFO : PROGRESS: at sentence #90000, processed 3367232 words, keeping 40281 word types\n",
      "2017-08-26 15:26:46,127 : INFO : PROGRESS: at sentence #100000, processed 3747102 words, keeping 42512 word types\n",
      "2017-08-26 15:26:46,278 : INFO : PROGRESS: at sentence #110000, processed 4105428 words, keeping 45062 word types\n",
      "2017-08-26 15:26:46,425 : INFO : PROGRESS: at sentence #120000, processed 4483168 words, keeping 47349 word types\n",
      "2017-08-26 15:26:46,573 : INFO : PROGRESS: at sentence #130000, processed 4868553 words, keeping 49478 word types\n",
      "2017-08-26 15:26:46,719 : INFO : PROGRESS: at sentence #140000, processed 5255894 words, keeping 51510 word types\n",
      "2017-08-26 15:26:46,862 : INFO : PROGRESS: at sentence #150000, processed 5633823 words, keeping 53514 word types\n",
      "2017-08-26 15:26:47,010 : INFO : PROGRESS: at sentence #160000, processed 6042683 words, keeping 55480 word types\n",
      "2017-08-26 15:26:47,142 : INFO : PROGRESS: at sentence #170000, processed 6401076 words, keeping 57088 word types\n",
      "2017-08-26 15:26:47,278 : INFO : PROGRESS: at sentence #180000, processed 6775816 words, keeping 58669 word types\n",
      "2017-08-26 15:26:47,438 : INFO : PROGRESS: at sentence #190000, processed 7143367 words, keeping 60248 word types\n",
      "2017-08-26 15:26:47,610 : INFO : PROGRESS: at sentence #200000, processed 7514568 words, keeping 62174 word types\n",
      "2017-08-26 15:26:47,796 : INFO : PROGRESS: at sentence #210000, processed 7927558 words, keeping 63936 word types\n",
      "2017-08-26 15:26:47,967 : INFO : PROGRESS: at sentence #220000, processed 8325090 words, keeping 65775 word types\n",
      "2017-08-26 15:26:48,126 : INFO : PROGRESS: at sentence #230000, processed 8699140 words, keeping 67393 word types\n",
      "2017-08-26 15:26:48,270 : INFO : PROGRESS: at sentence #240000, processed 9083524 words, keeping 68806 word types\n",
      "2017-08-26 15:26:48,423 : INFO : PROGRESS: at sentence #250000, processed 9503818 words, keeping 70474 word types\n",
      "2017-08-26 15:26:48,568 : INFO : PROGRESS: at sentence #260000, processed 9896136 words, keeping 72016 word types\n",
      "2017-08-26 15:26:48,774 : INFO : PROGRESS: at sentence #270000, processed 10260765 words, keeping 73482 word types\n",
      "2017-08-26 15:26:48,935 : INFO : PROGRESS: at sentence #280000, processed 10642509 words, keeping 75022 word types\n",
      "2017-08-26 15:26:49,082 : INFO : PROGRESS: at sentence #290000, processed 11021105 words, keeping 76473 word types\n",
      "2017-08-26 15:26:49,258 : INFO : PROGRESS: at sentence #300000, processed 11431775 words, keeping 78073 word types\n",
      "2017-08-26 15:26:49,440 : INFO : PROGRESS: at sentence #310000, processed 11842562 words, keeping 79501 word types\n",
      "2017-08-26 15:26:49,623 : INFO : PROGRESS: at sentence #320000, processed 12245651 words, keeping 80953 word types\n",
      "2017-08-26 15:26:49,803 : INFO : PROGRESS: at sentence #330000, processed 12685545 words, keeping 82377 word types\n",
      "2017-08-26 15:26:49,998 : INFO : PROGRESS: at sentence #340000, processed 13123823 words, keeping 84127 word types\n",
      "2017-08-26 15:26:50,219 : INFO : PROGRESS: at sentence #350000, processed 13554117 words, keeping 85636 word types\n",
      "2017-08-26 15:26:50,405 : INFO : PROGRESS: at sentence #360000, processed 14011240 words, keeping 87216 word types\n",
      "2017-08-26 15:26:50,608 : INFO : collected 88020 word types from a corpus of 14189758 raw words and 364173 sentences\n",
      "2017-08-26 15:26:50,611 : INFO : Loading a fresh vocabulary\n",
      "2017-08-26 15:26:51,250 : INFO : min_count=40 retains 8523 unique words (9% of original 88020, drops 79497)\n",
      "2017-08-26 15:26:51,253 : INFO : min_count=40 leaves 13907781 word corpus (98% of original 14189758, drops 281977)\n",
      "2017-08-26 15:26:51,359 : INFO : deleting the raw counts dictionary of 88020 items\n",
      "2017-08-26 15:26:51,369 : INFO : sample=0.001 downsamples 53 most-common words\n",
      "2017-08-26 15:26:51,371 : INFO : downsampling leaves estimated 12569924 word corpus (90.4% of prior 13907781)\n",
      "2017-08-26 15:26:51,376 : INFO : estimated required memory for 8523 words and 300 dimensions: 24716700 bytes\n",
      "2017-08-26 15:26:51,467 : INFO : resetting layer weights\n",
      "2017-08-26 15:26:53,823 : INFO : training model with 4 workers on 8523 vocabulary and 300 features, using sg=0 hs=0 sample=0.001 negative=5 window=10\n",
      "2017-08-26 15:26:54,956 : INFO : PROGRESS: at 0.25% examples, 182954 words/s, in_qsize 7, out_qsize 0\n",
      "2017-08-26 15:26:56,008 : INFO : PROGRESS: at 0.65% examples, 204342 words/s, in_qsize 8, out_qsize 0\n",
      "2017-08-26 15:26:57,025 : INFO : PROGRESS: at 1.06% examples, 220222 words/s, in_qsize 8, out_qsize 0\n",
      "2017-08-26 15:26:58,061 : INFO : PROGRESS: at 1.42% examples, 218500 words/s, in_qsize 7, out_qsize 0\n",
      "2017-08-26 15:26:59,089 : INFO : PROGRESS: at 1.76% examples, 219573 words/s, in_qsize 8, out_qsize 0\n",
      "2017-08-26 15:27:00,139 : INFO : PROGRESS: at 2.11% examples, 215036 words/s, in_qsize 8, out_qsize 0\n",
      "2017-08-26 15:27:01,172 : INFO : PROGRESS: at 2.46% examples, 212434 words/s, in_qsize 8, out_qsize 0\n",
      "2017-08-26 15:27:02,222 : INFO : PROGRESS: at 2.78% examples, 209079 words/s, in_qsize 7, out_qsize 1\n",
      "2017-08-26 15:27:03,240 : INFO : PROGRESS: at 3.20% examples, 210903 words/s, in_qsize 8, out_qsize 0\n",
      "2017-08-26 15:27:04,290 : INFO : PROGRESS: at 3.51% examples, 209070 words/s, in_qsize 8, out_qsize 0\n",
      "2017-08-26 15:27:05,315 : INFO : PROGRESS: at 3.89% examples, 210523 words/s, in_qsize 8, out_qsize 0\n",
      "2017-08-26 15:27:06,344 : INFO : PROGRESS: at 4.37% examples, 215107 words/s, in_qsize 8, out_qsize 0\n",
      "2017-08-26 15:27:07,390 : INFO : PROGRESS: at 4.70% examples, 212551 words/s, in_qsize 7, out_qsize 0\n",
      "2017-08-26 15:27:08,374 : INFO : PROGRESS: at 5.08% examples, 212341 words/s, in_qsize 8, out_qsize 0\n",
      "2017-08-26 15:27:09,377 : INFO : PROGRESS: at 5.42% examples, 212347 words/s, in_qsize 8, out_qsize 0\n",
      "2017-08-26 15:27:10,408 : INFO : PROGRESS: at 5.82% examples, 213530 words/s, in_qsize 8, out_qsize 0\n",
      "2017-08-26 15:27:11,412 : INFO : PROGRESS: at 6.18% examples, 213414 words/s, in_qsize 7, out_qsize 0\n",
      "2017-08-26 15:27:12,430 : INFO : PROGRESS: at 6.58% examples, 214503 words/s, in_qsize 8, out_qsize 0\n",
      "2017-08-26 15:27:13,440 : INFO : PROGRESS: at 7.02% examples, 216959 words/s, in_qsize 8, out_qsize 0\n",
      "2017-08-26 15:27:14,465 : INFO : PROGRESS: at 7.39% examples, 217747 words/s, in_qsize 7, out_qsize 0\n",
      "2017-08-26 15:27:15,478 : INFO : PROGRESS: at 7.83% examples, 220242 words/s, in_qsize 8, out_qsize 0\n",
      "2017-08-26 15:27:16,523 : INFO : PROGRESS: at 8.22% examples, 220659 words/s, in_qsize 8, out_qsize 0\n",
      "2017-08-26 15:27:17,556 : INFO : PROGRESS: at 8.64% examples, 222978 words/s, in_qsize 8, out_qsize 0\n",
      "2017-08-26 15:27:18,597 : INFO : PROGRESS: at 9.08% examples, 223924 words/s, in_qsize 8, out_qsize 0\n",
      "2017-08-26 15:27:19,640 : INFO : PROGRESS: at 9.48% examples, 224059 words/s, in_qsize 8, out_qsize 0\n",
      "2017-08-26 15:27:20,682 : INFO : PROGRESS: at 9.84% examples, 223609 words/s, in_qsize 7, out_qsize 0\n",
      "2017-08-26 15:27:21,730 : INFO : PROGRESS: at 10.18% examples, 222442 words/s, in_qsize 8, out_qsize 0\n",
      "2017-08-26 15:27:22,773 : INFO : PROGRESS: at 10.53% examples, 221409 words/s, in_qsize 8, out_qsize 0\n",
      "2017-08-26 15:27:23,790 : INFO : PROGRESS: at 10.92% examples, 221903 words/s, in_qsize 7, out_qsize 0\n",
      "2017-08-26 15:27:24,794 : INFO : PROGRESS: at 11.28% examples, 222339 words/s, in_qsize 8, out_qsize 0\n",
      "2017-08-26 15:27:25,810 : INFO : PROGRESS: at 11.71% examples, 223874 words/s, in_qsize 8, out_qsize 0\n",
      "2017-08-26 15:27:26,820 : INFO : PROGRESS: at 12.13% examples, 225298 words/s, in_qsize 8, out_qsize 0\n"
     ]
    },
    {
     "name": "stderr",
     "output_type": "stream",
     "text": [
      "2017-08-26 15:27:27,853 : INFO : PROGRESS: at 12.60% examples, 226767 words/s, in_qsize 8, out_qsize 0\n",
      "2017-08-26 15:27:28,860 : INFO : PROGRESS: at 13.05% examples, 228058 words/s, in_qsize 8, out_qsize 0\n",
      "2017-08-26 15:27:29,863 : INFO : PROGRESS: at 13.45% examples, 229256 words/s, in_qsize 8, out_qsize 0\n",
      "2017-08-26 15:27:30,916 : INFO : PROGRESS: at 13.87% examples, 230363 words/s, in_qsize 8, out_qsize 0\n",
      "2017-08-26 15:27:31,939 : INFO : PROGRESS: at 14.33% examples, 231562 words/s, in_qsize 8, out_qsize 0\n",
      "2017-08-26 15:27:32,987 : INFO : PROGRESS: at 14.81% examples, 232541 words/s, in_qsize 8, out_qsize 0\n",
      "2017-08-26 15:27:34,003 : INFO : PROGRESS: at 15.28% examples, 233666 words/s, in_qsize 8, out_qsize 0\n",
      "2017-08-26 15:27:35,060 : INFO : PROGRESS: at 15.74% examples, 234515 words/s, in_qsize 8, out_qsize 0\n",
      "2017-08-26 15:27:36,075 : INFO : PROGRESS: at 16.14% examples, 235376 words/s, in_qsize 8, out_qsize 0\n",
      "2017-08-26 15:27:37,090 : INFO : PROGRESS: at 16.60% examples, 236171 words/s, in_qsize 8, out_qsize 0\n",
      "2017-08-26 15:27:38,112 : INFO : PROGRESS: at 17.01% examples, 237112 words/s, in_qsize 8, out_qsize 0\n",
      "2017-08-26 15:27:39,138 : INFO : PROGRESS: at 17.42% examples, 237792 words/s, in_qsize 8, out_qsize 0\n",
      "2017-08-26 15:27:40,160 : INFO : PROGRESS: at 17.82% examples, 238484 words/s, in_qsize 8, out_qsize 0\n",
      "2017-08-26 15:27:41,178 : INFO : PROGRESS: at 18.21% examples, 239339 words/s, in_qsize 8, out_qsize 0\n",
      "2017-08-26 15:27:42,211 : INFO : PROGRESS: at 18.61% examples, 239887 words/s, in_qsize 8, out_qsize 0\n",
      "2017-08-26 15:27:43,249 : INFO : PROGRESS: at 19.02% examples, 240552 words/s, in_qsize 8, out_qsize 0\n",
      "2017-08-26 15:27:44,291 : INFO : PROGRESS: at 19.42% examples, 241160 words/s, in_qsize 8, out_qsize 0\n",
      "2017-08-26 15:27:45,293 : INFO : PROGRESS: at 19.78% examples, 241812 words/s, in_qsize 8, out_qsize 0\n",
      "2017-08-26 15:27:46,305 : INFO : PROGRESS: at 20.14% examples, 242178 words/s, in_qsize 8, out_qsize 0\n",
      "2017-08-26 15:27:47,323 : INFO : PROGRESS: at 20.60% examples, 242822 words/s, in_qsize 8, out_qsize 0\n",
      "2017-08-26 15:27:48,330 : INFO : PROGRESS: at 21.05% examples, 243373 words/s, in_qsize 8, out_qsize 0\n",
      "2017-08-26 15:27:49,407 : INFO : PROGRESS: at 21.49% examples, 243593 words/s, in_qsize 8, out_qsize 0\n",
      "2017-08-26 15:27:50,446 : INFO : PROGRESS: at 21.92% examples, 244127 words/s, in_qsize 8, out_qsize 0\n",
      "2017-08-26 15:27:51,466 : INFO : PROGRESS: at 22.41% examples, 244716 words/s, in_qsize 8, out_qsize 0\n",
      "2017-08-26 15:27:52,482 : INFO : PROGRESS: at 22.88% examples, 245295 words/s, in_qsize 8, out_qsize 0\n",
      "2017-08-26 15:27:53,498 : INFO : PROGRESS: at 23.35% examples, 245557 words/s, in_qsize 8, out_qsize 0\n",
      "2017-08-26 15:27:54,551 : INFO : PROGRESS: at 23.65% examples, 244501 words/s, in_qsize 8, out_qsize 0\n",
      "2017-08-26 15:27:55,595 : INFO : PROGRESS: at 24.01% examples, 243824 words/s, in_qsize 7, out_qsize 1\n",
      "2017-08-26 15:27:56,643 : INFO : PROGRESS: at 24.50% examples, 244243 words/s, in_qsize 8, out_qsize 0\n",
      "2017-08-26 15:27:57,663 : INFO : PROGRESS: at 24.97% examples, 244348 words/s, in_qsize 8, out_qsize 0\n",
      "2017-08-26 15:27:58,685 : INFO : PROGRESS: at 25.40% examples, 244602 words/s, in_qsize 8, out_qsize 0\n",
      "2017-08-26 15:27:59,688 : INFO : PROGRESS: at 25.74% examples, 243968 words/s, in_qsize 8, out_qsize 0\n",
      "2017-08-26 15:28:00,748 : INFO : PROGRESS: at 26.08% examples, 243005 words/s, in_qsize 8, out_qsize 0\n",
      "2017-08-26 15:28:01,840 : INFO : PROGRESS: at 26.43% examples, 242233 words/s, in_qsize 7, out_qsize 0\n",
      "2017-08-26 15:28:02,849 : INFO : PROGRESS: at 26.83% examples, 241989 words/s, in_qsize 8, out_qsize 0\n",
      "2017-08-26 15:28:03,862 : INFO : PROGRESS: at 27.25% examples, 242526 words/s, in_qsize 8, out_qsize 0\n",
      "2017-08-26 15:28:04,876 : INFO : PROGRESS: at 27.73% examples, 243294 words/s, in_qsize 8, out_qsize 0\n",
      "2017-08-26 15:28:05,891 : INFO : PROGRESS: at 28.12% examples, 243057 words/s, in_qsize 8, out_qsize 0\n",
      "2017-08-26 15:28:06,894 : INFO : PROGRESS: at 28.55% examples, 243612 words/s, in_qsize 7, out_qsize 0\n",
      "2017-08-26 15:28:07,908 : INFO : PROGRESS: at 29.00% examples, 243953 words/s, in_qsize 8, out_qsize 0\n",
      "2017-08-26 15:28:08,924 : INFO : PROGRESS: at 29.44% examples, 244161 words/s, in_qsize 8, out_qsize 0\n",
      "2017-08-26 15:28:09,973 : INFO : PROGRESS: at 29.89% examples, 244380 words/s, in_qsize 8, out_qsize 0\n",
      "2017-08-26 15:28:10,997 : INFO : PROGRESS: at 30.24% examples, 243755 words/s, in_qsize 8, out_qsize 0\n",
      "2017-08-26 15:28:12,070 : INFO : PROGRESS: at 30.66% examples, 243550 words/s, in_qsize 8, out_qsize 0\n",
      "2017-08-26 15:28:13,074 : INFO : PROGRESS: at 31.03% examples, 243362 words/s, in_qsize 8, out_qsize 0\n",
      "2017-08-26 15:28:14,114 : INFO : PROGRESS: at 31.37% examples, 243076 words/s, in_qsize 8, out_qsize 0\n",
      "2017-08-26 15:28:15,215 : INFO : PROGRESS: at 31.71% examples, 242406 words/s, in_qsize 8, out_qsize 0\n",
      "2017-08-26 15:28:16,339 : INFO : PROGRESS: at 31.98% examples, 241133 words/s, in_qsize 8, out_qsize 0\n",
      "2017-08-26 15:28:17,350 : INFO : PROGRESS: at 32.27% examples, 240546 words/s, in_qsize 7, out_qsize 0\n",
      "2017-08-26 15:28:18,355 : INFO : PROGRESS: at 32.57% examples, 239776 words/s, in_qsize 8, out_qsize 0\n",
      "2017-08-26 15:28:19,387 : INFO : PROGRESS: at 32.82% examples, 238631 words/s, in_qsize 8, out_qsize 0\n",
      "2017-08-26 15:28:20,430 : INFO : PROGRESS: at 32.98% examples, 236977 words/s, in_qsize 8, out_qsize 0\n",
      "2017-08-26 15:28:21,459 : INFO : PROGRESS: at 33.22% examples, 235904 words/s, in_qsize 8, out_qsize 0\n",
      "2017-08-26 15:28:22,475 : INFO : PROGRESS: at 33.44% examples, 234867 words/s, in_qsize 8, out_qsize 0\n",
      "2017-08-26 15:28:23,624 : INFO : PROGRESS: at 33.66% examples, 233684 words/s, in_qsize 7, out_qsize 0\n",
      "2017-08-26 15:28:24,645 : INFO : PROGRESS: at 33.89% examples, 232654 words/s, in_qsize 8, out_qsize 0\n",
      "2017-08-26 15:28:25,678 : INFO : PROGRESS: at 34.12% examples, 231566 words/s, in_qsize 7, out_qsize 0\n",
      "2017-08-26 15:28:26,737 : INFO : PROGRESS: at 34.37% examples, 230529 words/s, in_qsize 8, out_qsize 0\n",
      "2017-08-26 15:28:27,739 : INFO : PROGRESS: at 34.63% examples, 229660 words/s, in_qsize 8, out_qsize 0\n",
      "2017-08-26 15:28:28,782 : INFO : PROGRESS: at 34.87% examples, 228616 words/s, in_qsize 8, out_qsize 0\n",
      "2017-08-26 15:28:29,873 : INFO : PROGRESS: at 35.09% examples, 227479 words/s, in_qsize 7, out_qsize 0\n",
      "2017-08-26 15:28:30,914 : INFO : PROGRESS: at 35.36% examples, 226674 words/s, in_qsize 8, out_qsize 0\n",
      "2017-08-26 15:28:31,926 : INFO : PROGRESS: at 35.60% examples, 225855 words/s, in_qsize 8, out_qsize 0\n",
      "2017-08-26 15:28:32,939 : INFO : PROGRESS: at 35.83% examples, 224972 words/s, in_qsize 8, out_qsize 0\n",
      "2017-08-26 15:28:33,989 : INFO : PROGRESS: at 36.07% examples, 224199 words/s, in_qsize 8, out_qsize 0\n",
      "2017-08-26 15:28:35,043 : INFO : PROGRESS: at 36.31% examples, 223438 words/s, in_qsize 8, out_qsize 0\n",
      "2017-08-26 15:28:36,064 : INFO : PROGRESS: at 36.56% examples, 222674 words/s, in_qsize 8, out_qsize 0\n",
      "2017-08-26 15:28:37,091 : INFO : PROGRESS: at 36.82% examples, 222005 words/s, in_qsize 8, out_qsize 0\n",
      "2017-08-26 15:28:38,121 : INFO : PROGRESS: at 37.02% examples, 221245 words/s, in_qsize 8, out_qsize 0\n",
      "2017-08-26 15:28:39,137 : INFO : PROGRESS: at 37.25% examples, 220624 words/s, in_qsize 8, out_qsize 0\n",
      "2017-08-26 15:28:40,160 : INFO : PROGRESS: at 37.49% examples, 219950 words/s, in_qsize 7, out_qsize 0\n",
      "2017-08-26 15:28:41,203 : INFO : PROGRESS: at 37.72% examples, 219259 words/s, in_qsize 8, out_qsize 0\n",
      "2017-08-26 15:28:42,225 : INFO : PROGRESS: at 37.95% examples, 218664 words/s, in_qsize 8, out_qsize 0\n",
      "2017-08-26 15:28:43,246 : INFO : PROGRESS: at 38.15% examples, 218002 words/s, in_qsize 8, out_qsize 0\n",
      "2017-08-26 15:28:44,292 : INFO : PROGRESS: at 38.37% examples, 217376 words/s, in_qsize 8, out_qsize 0\n",
      "2017-08-26 15:28:45,330 : INFO : PROGRESS: at 38.59% examples, 216696 words/s, in_qsize 8, out_qsize 0\n",
      "2017-08-26 15:28:46,385 : INFO : PROGRESS: at 38.84% examples, 216072 words/s, in_qsize 8, out_qsize 0\n",
      "2017-08-26 15:28:47,402 : INFO : PROGRESS: at 39.05% examples, 215527 words/s, in_qsize 8, out_qsize 0\n",
      "2017-08-26 15:28:48,453 : INFO : PROGRESS: at 39.27% examples, 214931 words/s, in_qsize 8, out_qsize 0\n",
      "2017-08-26 15:28:49,525 : INFO : PROGRESS: at 39.50% examples, 214309 words/s, in_qsize 8, out_qsize 0\n"
     ]
    },
    {
     "name": "stderr",
     "output_type": "stream",
     "text": [
      "2017-08-26 15:28:50,556 : INFO : PROGRESS: at 39.72% examples, 213780 words/s, in_qsize 8, out_qsize 0\n",
      "2017-08-26 15:28:51,575 : INFO : PROGRESS: at 39.92% examples, 213280 words/s, in_qsize 8, out_qsize 0\n",
      "2017-08-26 15:28:52,638 : INFO : PROGRESS: at 40.12% examples, 212645 words/s, in_qsize 8, out_qsize 0\n",
      "2017-08-26 15:28:53,639 : INFO : PROGRESS: at 40.38% examples, 212191 words/s, in_qsize 8, out_qsize 0\n",
      "2017-08-26 15:28:54,651 : INFO : PROGRESS: at 40.63% examples, 211647 words/s, in_qsize 8, out_qsize 0\n",
      "2017-08-26 15:28:55,659 : INFO : PROGRESS: at 40.88% examples, 211127 words/s, in_qsize 8, out_qsize 0\n",
      "2017-08-26 15:28:56,707 : INFO : PROGRESS: at 41.12% examples, 210624 words/s, in_qsize 8, out_qsize 0\n",
      "2017-08-26 15:28:57,712 : INFO : PROGRESS: at 41.38% examples, 210197 words/s, in_qsize 8, out_qsize 0\n",
      "2017-08-26 15:28:58,762 : INFO : PROGRESS: at 41.62% examples, 209627 words/s, in_qsize 8, out_qsize 0\n",
      "2017-08-26 15:28:59,798 : INFO : PROGRESS: at 41.85% examples, 209203 words/s, in_qsize 7, out_qsize 0\n",
      "2017-08-26 15:29:00,802 : INFO : PROGRESS: at 42.11% examples, 208696 words/s, in_qsize 8, out_qsize 0\n",
      "2017-08-26 15:29:01,844 : INFO : PROGRESS: at 42.37% examples, 208175 words/s, in_qsize 8, out_qsize 0\n",
      "2017-08-26 15:29:02,851 : INFO : PROGRESS: at 42.60% examples, 207645 words/s, in_qsize 8, out_qsize 0\n",
      "2017-08-26 15:29:03,875 : INFO : PROGRESS: at 42.87% examples, 207232 words/s, in_qsize 8, out_qsize 0\n",
      "2017-08-26 15:29:05,029 : INFO : PROGRESS: at 43.09% examples, 206354 words/s, in_qsize 8, out_qsize 0\n",
      "2017-08-26 15:29:06,031 : INFO : PROGRESS: at 43.35% examples, 205919 words/s, in_qsize 8, out_qsize 0\n",
      "2017-08-26 15:29:07,153 : INFO : PROGRESS: at 43.57% examples, 205254 words/s, in_qsize 7, out_qsize 0\n",
      "2017-08-26 15:29:08,183 : INFO : PROGRESS: at 43.83% examples, 204865 words/s, in_qsize 8, out_qsize 0\n",
      "2017-08-26 15:29:09,387 : INFO : PROGRESS: at 44.07% examples, 204027 words/s, in_qsize 8, out_qsize 0\n",
      "2017-08-26 15:29:10,405 : INFO : PROGRESS: at 44.32% examples, 203600 words/s, in_qsize 8, out_qsize 0\n",
      "2017-08-26 15:29:11,552 : INFO : PROGRESS: at 44.57% examples, 202929 words/s, in_qsize 8, out_qsize 0\n",
      "2017-08-26 15:29:12,660 : INFO : PROGRESS: at 44.86% examples, 202451 words/s, in_qsize 8, out_qsize 0\n",
      "2017-08-26 15:29:13,846 : INFO : PROGRESS: at 45.06% examples, 201556 words/s, in_qsize 8, out_qsize 0\n",
      "2017-08-26 15:29:14,898 : INFO : PROGRESS: at 45.23% examples, 200806 words/s, in_qsize 8, out_qsize 0\n",
      "2017-08-26 15:29:16,014 : INFO : PROGRESS: at 45.45% examples, 200167 words/s, in_qsize 8, out_qsize 0\n",
      "2017-08-26 15:29:17,115 : INFO : PROGRESS: at 45.67% examples, 199556 words/s, in_qsize 8, out_qsize 0\n",
      "2017-08-26 15:29:18,146 : INFO : PROGRESS: at 45.84% examples, 198802 words/s, in_qsize 8, out_qsize 0\n",
      "2017-08-26 15:29:19,187 : INFO : PROGRESS: at 46.03% examples, 198107 words/s, in_qsize 7, out_qsize 1\n",
      "2017-08-26 15:29:20,189 : INFO : PROGRESS: at 46.22% examples, 197599 words/s, in_qsize 8, out_qsize 0\n",
      "2017-08-26 15:29:21,198 : INFO : PROGRESS: at 46.45% examples, 197147 words/s, in_qsize 8, out_qsize 0\n",
      "2017-08-26 15:29:22,211 : INFO : PROGRESS: at 46.64% examples, 196563 words/s, in_qsize 8, out_qsize 0\n",
      "2017-08-26 15:29:23,233 : INFO : PROGRESS: at 46.87% examples, 196100 words/s, in_qsize 7, out_qsize 0\n",
      "2017-08-26 15:29:24,292 : INFO : PROGRESS: at 47.10% examples, 195720 words/s, in_qsize 8, out_qsize 0\n",
      "2017-08-26 15:29:25,294 : INFO : PROGRESS: at 47.28% examples, 195242 words/s, in_qsize 8, out_qsize 0\n",
      "2017-08-26 15:29:26,311 : INFO : PROGRESS: at 47.52% examples, 194867 words/s, in_qsize 8, out_qsize 0\n",
      "2017-08-26 15:29:27,368 : INFO : PROGRESS: at 47.76% examples, 194507 words/s, in_qsize 8, out_qsize 0\n",
      "2017-08-26 15:29:28,382 : INFO : PROGRESS: at 47.97% examples, 194092 words/s, in_qsize 8, out_qsize 0\n",
      "2017-08-26 15:29:29,413 : INFO : PROGRESS: at 48.23% examples, 193827 words/s, in_qsize 8, out_qsize 0\n",
      "2017-08-26 15:29:30,429 : INFO : PROGRESS: at 48.48% examples, 193587 words/s, in_qsize 8, out_qsize 0\n",
      "2017-08-26 15:29:31,499 : INFO : PROGRESS: at 48.71% examples, 193320 words/s, in_qsize 8, out_qsize 0\n",
      "2017-08-26 15:29:32,518 : INFO : PROGRESS: at 48.99% examples, 193038 words/s, in_qsize 8, out_qsize 0\n",
      "2017-08-26 15:29:33,621 : INFO : PROGRESS: at 49.28% examples, 192756 words/s, in_qsize 8, out_qsize 0\n",
      "2017-08-26 15:29:34,717 : INFO : PROGRESS: at 49.55% examples, 192481 words/s, in_qsize 8, out_qsize 0\n",
      "2017-08-26 15:29:35,731 : INFO : PROGRESS: at 49.81% examples, 192257 words/s, in_qsize 8, out_qsize 0\n",
      "2017-08-26 15:29:36,734 : INFO : PROGRESS: at 50.08% examples, 192043 words/s, in_qsize 7, out_qsize 0\n",
      "2017-08-26 15:29:37,789 : INFO : PROGRESS: at 50.33% examples, 191735 words/s, in_qsize 8, out_qsize 1\n",
      "2017-08-26 15:29:38,883 : INFO : PROGRESS: at 50.64% examples, 191508 words/s, in_qsize 8, out_qsize 0\n",
      "2017-08-26 15:29:39,976 : INFO : PROGRESS: at 50.92% examples, 191310 words/s, in_qsize 8, out_qsize 0\n",
      "2017-08-26 15:29:41,096 : INFO : PROGRESS: at 51.20% examples, 191085 words/s, in_qsize 8, out_qsize 0\n",
      "2017-08-26 15:29:42,208 : INFO : PROGRESS: at 51.47% examples, 190873 words/s, in_qsize 8, out_qsize 0\n",
      "2017-08-26 15:29:43,215 : INFO : PROGRESS: at 51.73% examples, 190737 words/s, in_qsize 8, out_qsize 0\n",
      "2017-08-26 15:29:44,224 : INFO : PROGRESS: at 51.98% examples, 190539 words/s, in_qsize 8, out_qsize 0\n",
      "2017-08-26 15:29:45,243 : INFO : PROGRESS: at 52.22% examples, 190336 words/s, in_qsize 8, out_qsize 0\n",
      "2017-08-26 15:29:46,276 : INFO : PROGRESS: at 52.47% examples, 190065 words/s, in_qsize 8, out_qsize 0\n",
      "2017-08-26 15:29:47,403 : INFO : PROGRESS: at 52.70% examples, 189593 words/s, in_qsize 8, out_qsize 0\n",
      "2017-08-26 15:29:48,410 : INFO : PROGRESS: at 52.90% examples, 189212 words/s, in_qsize 8, out_qsize 0\n",
      "2017-08-26 15:29:49,511 : INFO : PROGRESS: at 53.10% examples, 188725 words/s, in_qsize 8, out_qsize 0\n",
      "2017-08-26 15:29:50,550 : INFO : PROGRESS: at 53.26% examples, 188207 words/s, in_qsize 7, out_qsize 0\n",
      "2017-08-26 15:29:51,701 : INFO : PROGRESS: at 53.40% examples, 187579 words/s, in_qsize 8, out_qsize 0\n",
      "2017-08-26 15:29:52,733 : INFO : PROGRESS: at 53.55% examples, 187085 words/s, in_qsize 8, out_qsize 0\n",
      "2017-08-26 15:29:53,778 : INFO : PROGRESS: at 53.73% examples, 186639 words/s, in_qsize 8, out_qsize 0\n",
      "2017-08-26 15:29:54,913 : INFO : PROGRESS: at 53.87% examples, 186002 words/s, in_qsize 8, out_qsize 0\n",
      "2017-08-26 15:29:56,127 : INFO : PROGRESS: at 54.02% examples, 185246 words/s, in_qsize 8, out_qsize 0\n",
      "2017-08-26 15:29:57,206 : INFO : PROGRESS: at 54.20% examples, 184779 words/s, in_qsize 8, out_qsize 0\n",
      "2017-08-26 15:29:58,380 : INFO : PROGRESS: at 54.40% examples, 184223 words/s, in_qsize 7, out_qsize 0\n",
      "2017-08-26 15:29:59,613 : INFO : PROGRESS: at 54.55% examples, 183534 words/s, in_qsize 7, out_qsize 0\n",
      "2017-08-26 15:30:00,643 : INFO : PROGRESS: at 54.70% examples, 182932 words/s, in_qsize 8, out_qsize 0\n",
      "2017-08-26 15:30:01,649 : INFO : PROGRESS: at 54.83% examples, 182371 words/s, in_qsize 8, out_qsize 0\n",
      "2017-08-26 15:30:02,653 : INFO : PROGRESS: at 54.99% examples, 181867 words/s, in_qsize 8, out_qsize 0\n",
      "2017-08-26 15:30:03,740 : INFO : PROGRESS: at 55.08% examples, 181192 words/s, in_qsize 8, out_qsize 0\n",
      "2017-08-26 15:30:04,812 : INFO : PROGRESS: at 55.27% examples, 180730 words/s, in_qsize 8, out_qsize 0\n",
      "2017-08-26 15:30:05,859 : INFO : PROGRESS: at 55.41% examples, 180202 words/s, in_qsize 7, out_qsize 0\n",
      "2017-08-26 15:30:07,004 : INFO : PROGRESS: at 55.59% examples, 179725 words/s, in_qsize 7, out_qsize 0\n",
      "2017-08-26 15:30:08,060 : INFO : PROGRESS: at 55.73% examples, 179157 words/s, in_qsize 8, out_qsize 0\n",
      "2017-08-26 15:30:09,096 : INFO : PROGRESS: at 55.86% examples, 178659 words/s, in_qsize 8, out_qsize 0\n",
      "2017-08-26 15:30:10,113 : INFO : PROGRESS: at 56.01% examples, 178180 words/s, in_qsize 8, out_qsize 0\n",
      "2017-08-26 15:30:11,150 : INFO : PROGRESS: at 56.15% examples, 177783 words/s, in_qsize 8, out_qsize 0\n",
      "2017-08-26 15:30:12,184 : INFO : PROGRESS: at 56.28% examples, 177258 words/s, in_qsize 8, out_qsize 0\n",
      "2017-08-26 15:30:13,349 : INFO : PROGRESS: at 56.40% examples, 176622 words/s, in_qsize 8, out_qsize 0\n",
      "2017-08-26 15:30:14,436 : INFO : PROGRESS: at 56.62% examples, 176279 words/s, in_qsize 8, out_qsize 0\n"
     ]
    },
    {
     "name": "stderr",
     "output_type": "stream",
     "text": [
      "2017-08-26 15:30:15,568 : INFO : PROGRESS: at 56.78% examples, 175817 words/s, in_qsize 8, out_qsize 0\n",
      "2017-08-26 15:30:16,689 : INFO : PROGRESS: at 56.94% examples, 175409 words/s, in_qsize 7, out_qsize 0\n",
      "2017-08-26 15:30:17,707 : INFO : PROGRESS: at 57.09% examples, 175056 words/s, in_qsize 8, out_qsize 0\n",
      "2017-08-26 15:30:18,753 : INFO : PROGRESS: at 57.25% examples, 174679 words/s, in_qsize 8, out_qsize 0\n",
      "2017-08-26 15:30:19,868 : INFO : PROGRESS: at 57.43% examples, 174291 words/s, in_qsize 8, out_qsize 0\n",
      "2017-08-26 15:30:20,976 : INFO : PROGRESS: at 57.56% examples, 173784 words/s, in_qsize 7, out_qsize 0\n",
      "2017-08-26 15:30:21,984 : INFO : PROGRESS: at 57.70% examples, 173412 words/s, in_qsize 8, out_qsize 0\n",
      "2017-08-26 15:30:23,063 : INFO : PROGRESS: at 57.82% examples, 172944 words/s, in_qsize 8, out_qsize 0\n",
      "2017-08-26 15:30:24,080 : INFO : PROGRESS: at 58.01% examples, 172654 words/s, in_qsize 8, out_qsize 0\n",
      "2017-08-26 15:30:25,094 : INFO : PROGRESS: at 58.12% examples, 172289 words/s, in_qsize 8, out_qsize 0\n",
      "2017-08-26 15:30:26,128 : INFO : PROGRESS: at 58.23% examples, 171825 words/s, in_qsize 8, out_qsize 0\n",
      "2017-08-26 15:30:27,149 : INFO : PROGRESS: at 58.36% examples, 171417 words/s, in_qsize 8, out_qsize 0\n",
      "2017-08-26 15:30:28,346 : INFO : PROGRESS: at 58.49% examples, 170871 words/s, in_qsize 8, out_qsize 0\n",
      "2017-08-26 15:30:29,460 : INFO : PROGRESS: at 58.61% examples, 170396 words/s, in_qsize 8, out_qsize 0\n",
      "2017-08-26 15:30:30,538 : INFO : PROGRESS: at 58.78% examples, 170035 words/s, in_qsize 8, out_qsize 0\n",
      "2017-08-26 15:30:31,585 : INFO : PROGRESS: at 58.94% examples, 169782 words/s, in_qsize 8, out_qsize 0\n",
      "2017-08-26 15:30:32,619 : INFO : PROGRESS: at 59.11% examples, 169498 words/s, in_qsize 8, out_qsize 0\n",
      "2017-08-26 15:30:33,723 : INFO : PROGRESS: at 59.29% examples, 169208 words/s, in_qsize 8, out_qsize 0\n",
      "2017-08-26 15:30:34,751 : INFO : PROGRESS: at 59.45% examples, 168977 words/s, in_qsize 8, out_qsize 0\n",
      "2017-08-26 15:30:35,779 : INFO : PROGRESS: at 59.62% examples, 168711 words/s, in_qsize 8, out_qsize 0\n",
      "2017-08-26 15:30:36,874 : INFO : PROGRESS: at 59.76% examples, 168403 words/s, in_qsize 8, out_qsize 0\n",
      "2017-08-26 15:30:37,912 : INFO : PROGRESS: at 59.93% examples, 168172 words/s, in_qsize 8, out_qsize 0\n",
      "2017-08-26 15:30:39,132 : INFO : PROGRESS: at 60.09% examples, 167773 words/s, in_qsize 8, out_qsize 0\n",
      "2017-08-26 15:30:40,246 : INFO : PROGRESS: at 60.24% examples, 167418 words/s, in_qsize 8, out_qsize 0\n",
      "2017-08-26 15:30:41,330 : INFO : PROGRESS: at 60.37% examples, 166968 words/s, in_qsize 7, out_qsize 0\n",
      "2017-08-26 15:30:42,408 : INFO : PROGRESS: at 60.53% examples, 166605 words/s, in_qsize 7, out_qsize 0\n",
      "2017-08-26 15:30:43,560 : INFO : PROGRESS: at 60.72% examples, 166226 words/s, in_qsize 8, out_qsize 0\n",
      "2017-08-26 15:30:44,611 : INFO : PROGRESS: at 60.85% examples, 165814 words/s, in_qsize 8, out_qsize 0\n",
      "2017-08-26 15:30:45,774 : INFO : PROGRESS: at 60.99% examples, 165392 words/s, in_qsize 7, out_qsize 1\n",
      "2017-08-26 15:30:46,852 : INFO : PROGRESS: at 61.12% examples, 164980 words/s, in_qsize 8, out_qsize 0\n",
      "2017-08-26 15:30:48,008 : INFO : PROGRESS: at 61.28% examples, 164620 words/s, in_qsize 8, out_qsize 0\n",
      "2017-08-26 15:30:49,158 : INFO : PROGRESS: at 61.42% examples, 164153 words/s, in_qsize 8, out_qsize 0\n",
      "2017-08-26 15:30:50,206 : INFO : PROGRESS: at 61.54% examples, 163762 words/s, in_qsize 7, out_qsize 0\n",
      "2017-08-26 15:30:51,287 : INFO : PROGRESS: at 61.66% examples, 163349 words/s, in_qsize 7, out_qsize 0\n",
      "2017-08-26 15:30:52,379 : INFO : PROGRESS: at 61.80% examples, 163010 words/s, in_qsize 8, out_qsize 0\n",
      "2017-08-26 15:30:53,404 : INFO : PROGRESS: at 62.00% examples, 162791 words/s, in_qsize 8, out_qsize 0\n",
      "2017-08-26 15:30:54,477 : INFO : PROGRESS: at 62.15% examples, 162430 words/s, in_qsize 8, out_qsize 0\n",
      "2017-08-26 15:30:55,533 : INFO : PROGRESS: at 62.35% examples, 162198 words/s, in_qsize 8, out_qsize 0\n",
      "2017-08-26 15:30:56,653 : INFO : PROGRESS: at 62.54% examples, 161920 words/s, in_qsize 8, out_qsize 0\n",
      "2017-08-26 15:30:57,712 : INFO : PROGRESS: at 62.72% examples, 161656 words/s, in_qsize 8, out_qsize 0\n",
      "2017-08-26 15:30:58,761 : INFO : PROGRESS: at 62.90% examples, 161394 words/s, in_qsize 8, out_qsize 0\n",
      "2017-08-26 15:30:59,803 : INFO : PROGRESS: at 63.11% examples, 161179 words/s, in_qsize 8, out_qsize 0\n",
      "2017-08-26 15:31:00,825 : INFO : PROGRESS: at 63.29% examples, 160940 words/s, in_qsize 8, out_qsize 0\n",
      "2017-08-26 15:31:01,837 : INFO : PROGRESS: at 63.47% examples, 160744 words/s, in_qsize 8, out_qsize 0\n",
      "2017-08-26 15:31:02,874 : INFO : PROGRESS: at 63.66% examples, 160538 words/s, in_qsize 8, out_qsize 0\n",
      "2017-08-26 15:31:03,892 : INFO : PROGRESS: at 63.83% examples, 160313 words/s, in_qsize 8, out_qsize 0\n",
      "2017-08-26 15:31:04,950 : INFO : PROGRESS: at 64.02% examples, 160061 words/s, in_qsize 8, out_qsize 0\n",
      "2017-08-26 15:31:05,974 : INFO : PROGRESS: at 64.23% examples, 159897 words/s, in_qsize 8, out_qsize 0\n",
      "2017-08-26 15:31:06,977 : INFO : PROGRESS: at 64.43% examples, 159719 words/s, in_qsize 8, out_qsize 0\n",
      "2017-08-26 15:31:08,019 : INFO : PROGRESS: at 64.63% examples, 159516 words/s, in_qsize 8, out_qsize 0\n",
      "2017-08-26 15:31:09,164 : INFO : PROGRESS: at 64.84% examples, 159247 words/s, in_qsize 8, out_qsize 0\n",
      "2017-08-26 15:31:10,188 : INFO : PROGRESS: at 65.03% examples, 159024 words/s, in_qsize 7, out_qsize 0\n",
      "2017-08-26 15:31:11,354 : INFO : PROGRESS: at 65.18% examples, 158647 words/s, in_qsize 8, out_qsize 1\n",
      "2017-08-26 15:31:12,391 : INFO : PROGRESS: at 65.35% examples, 158422 words/s, in_qsize 8, out_qsize 0\n",
      "2017-08-26 15:31:13,461 : INFO : PROGRESS: at 65.47% examples, 158077 words/s, in_qsize 8, out_qsize 0\n",
      "2017-08-26 15:31:14,618 : INFO : PROGRESS: at 65.60% examples, 157680 words/s, in_qsize 8, out_qsize 1\n",
      "2017-08-26 15:31:15,848 : INFO : PROGRESS: at 65.78% examples, 157344 words/s, in_qsize 8, out_qsize 0\n",
      "2017-08-26 15:31:16,859 : INFO : PROGRESS: at 65.93% examples, 157042 words/s, in_qsize 8, out_qsize 0\n",
      "2017-08-26 15:31:17,888 : INFO : PROGRESS: at 66.05% examples, 156698 words/s, in_qsize 8, out_qsize 0\n",
      "2017-08-26 15:31:19,001 : INFO : PROGRESS: at 66.18% examples, 156340 words/s, in_qsize 8, out_qsize 0\n",
      "2017-08-26 15:31:20,010 : INFO : PROGRESS: at 66.38% examples, 156212 words/s, in_qsize 8, out_qsize 0\n",
      "2017-08-26 15:31:21,138 : INFO : PROGRESS: at 66.59% examples, 156010 words/s, in_qsize 8, out_qsize 0\n",
      "2017-08-26 15:31:22,170 : INFO : PROGRESS: at 66.80% examples, 155835 words/s, in_qsize 8, out_qsize 0\n",
      "2017-08-26 15:31:23,226 : INFO : PROGRESS: at 66.95% examples, 155585 words/s, in_qsize 8, out_qsize 0\n",
      "2017-08-26 15:31:24,477 : INFO : PROGRESS: at 67.08% examples, 155194 words/s, in_qsize 8, out_qsize 0\n",
      "2017-08-26 15:31:25,605 : INFO : PROGRESS: at 67.24% examples, 154939 words/s, in_qsize 8, out_qsize 0\n",
      "2017-08-26 15:31:26,616 : INFO : PROGRESS: at 67.45% examples, 154820 words/s, in_qsize 8, out_qsize 0\n",
      "2017-08-26 15:31:27,687 : INFO : PROGRESS: at 67.64% examples, 154666 words/s, in_qsize 8, out_qsize 0\n",
      "2017-08-26 15:31:28,714 : INFO : PROGRESS: at 67.80% examples, 154442 words/s, in_qsize 8, out_qsize 0\n",
      "2017-08-26 15:31:29,727 : INFO : PROGRESS: at 67.98% examples, 154294 words/s, in_qsize 8, out_qsize 0\n",
      "2017-08-26 15:31:30,731 : INFO : PROGRESS: at 68.17% examples, 154150 words/s, in_qsize 8, out_qsize 0\n",
      "2017-08-26 15:31:31,772 : INFO : PROGRESS: at 68.34% examples, 153986 words/s, in_qsize 8, out_qsize 0\n",
      "2017-08-26 15:31:32,808 : INFO : PROGRESS: at 68.50% examples, 153778 words/s, in_qsize 7, out_qsize 0\n",
      "2017-08-26 15:31:33,915 : INFO : PROGRESS: at 68.64% examples, 153504 words/s, in_qsize 8, out_qsize 0\n",
      "2017-08-26 15:31:35,048 : INFO : PROGRESS: at 68.81% examples, 153261 words/s, in_qsize 8, out_qsize 0\n",
      "2017-08-26 15:31:36,171 : INFO : PROGRESS: at 68.99% examples, 152992 words/s, in_qsize 8, out_qsize 0\n",
      "2017-08-26 15:31:37,228 : INFO : PROGRESS: at 69.16% examples, 152764 words/s, in_qsize 8, out_qsize 0\n",
      "2017-08-26 15:31:38,365 : INFO : PROGRESS: at 69.32% examples, 152495 words/s, in_qsize 8, out_qsize 0\n",
      "2017-08-26 15:31:39,479 : INFO : PROGRESS: at 69.45% examples, 152176 words/s, in_qsize 8, out_qsize 0\n",
      "2017-08-26 15:31:40,551 : INFO : PROGRESS: at 69.57% examples, 151885 words/s, in_qsize 7, out_qsize 0\n"
     ]
    },
    {
     "name": "stderr",
     "output_type": "stream",
     "text": [
      "2017-08-26 15:31:41,556 : INFO : PROGRESS: at 69.75% examples, 151720 words/s, in_qsize 8, out_qsize 0\n",
      "2017-08-26 15:31:42,626 : INFO : PROGRESS: at 69.96% examples, 151586 words/s, in_qsize 7, out_qsize 0\n",
      "2017-08-26 15:31:43,652 : INFO : PROGRESS: at 70.15% examples, 151443 words/s, in_qsize 8, out_qsize 0\n",
      "2017-08-26 15:31:44,785 : INFO : PROGRESS: at 70.35% examples, 151247 words/s, in_qsize 7, out_qsize 0\n",
      "2017-08-26 15:31:45,934 : INFO : PROGRESS: at 70.52% examples, 151011 words/s, in_qsize 8, out_qsize 0\n",
      "2017-08-26 15:31:46,937 : INFO : PROGRESS: at 70.73% examples, 150883 words/s, in_qsize 8, out_qsize 0\n",
      "2017-08-26 15:31:47,937 : INFO : PROGRESS: at 70.89% examples, 150728 words/s, in_qsize 8, out_qsize 0\n",
      "2017-08-26 15:31:49,097 : INFO : PROGRESS: at 71.07% examples, 150532 words/s, in_qsize 7, out_qsize 0\n",
      "2017-08-26 15:31:50,065 : INFO : PROGRESS: at 71.18% examples, 150241 words/s, in_qsize 7, out_qsize 0\n",
      "2017-08-26 15:31:51,077 : INFO : PROGRESS: at 71.27% examples, 149968 words/s, in_qsize 8, out_qsize 0\n",
      "2017-08-26 15:31:52,165 : INFO : PROGRESS: at 71.40% examples, 149717 words/s, in_qsize 8, out_qsize 0\n",
      "2017-08-26 15:31:53,310 : INFO : PROGRESS: at 71.55% examples, 149471 words/s, in_qsize 8, out_qsize 0\n",
      "2017-08-26 15:31:54,479 : INFO : PROGRESS: at 71.72% examples, 149246 words/s, in_qsize 8, out_qsize 0\n",
      "2017-08-26 15:31:55,570 : INFO : PROGRESS: at 71.88% examples, 149028 words/s, in_qsize 8, out_qsize 0\n",
      "2017-08-26 15:31:56,623 : INFO : PROGRESS: at 72.01% examples, 148773 words/s, in_qsize 8, out_qsize 0\n",
      "2017-08-26 15:31:57,682 : INFO : PROGRESS: at 72.16% examples, 148603 words/s, in_qsize 8, out_qsize 0\n",
      "2017-08-26 15:31:58,716 : INFO : PROGRESS: at 72.29% examples, 148359 words/s, in_qsize 8, out_qsize 0\n",
      "2017-08-26 15:31:59,768 : INFO : PROGRESS: at 72.41% examples, 148079 words/s, in_qsize 8, out_qsize 0\n",
      "2017-08-26 15:32:00,830 : INFO : PROGRESS: at 72.60% examples, 147942 words/s, in_qsize 8, out_qsize 0\n",
      "2017-08-26 15:32:01,897 : INFO : PROGRESS: at 72.75% examples, 147714 words/s, in_qsize 8, out_qsize 0\n",
      "2017-08-26 15:32:02,967 : INFO : PROGRESS: at 72.90% examples, 147539 words/s, in_qsize 6, out_qsize 0\n",
      "2017-08-26 15:32:04,045 : INFO : PROGRESS: at 73.05% examples, 147289 words/s, in_qsize 8, out_qsize 0\n",
      "2017-08-26 15:32:05,194 : INFO : PROGRESS: at 73.22% examples, 147112 words/s, in_qsize 8, out_qsize 0\n",
      "2017-08-26 15:32:06,197 : INFO : PROGRESS: at 73.37% examples, 146974 words/s, in_qsize 8, out_qsize 0\n",
      "2017-08-26 15:32:07,200 : INFO : PROGRESS: at 73.54% examples, 146869 words/s, in_qsize 8, out_qsize 0\n",
      "2017-08-26 15:32:08,329 : INFO : PROGRESS: at 73.70% examples, 146680 words/s, in_qsize 8, out_qsize 0\n",
      "2017-08-26 15:32:09,466 : INFO : PROGRESS: at 73.87% examples, 146513 words/s, in_qsize 8, out_qsize 0\n",
      "2017-08-26 15:32:10,491 : INFO : PROGRESS: at 74.06% examples, 146400 words/s, in_qsize 8, out_qsize 0\n",
      "2017-08-26 15:32:11,503 : INFO : PROGRESS: at 74.23% examples, 146266 words/s, in_qsize 8, out_qsize 0\n",
      "2017-08-26 15:32:12,637 : INFO : PROGRESS: at 74.42% examples, 146077 words/s, in_qsize 8, out_qsize 0\n",
      "2017-08-26 15:32:13,641 : INFO : PROGRESS: at 74.59% examples, 145950 words/s, in_qsize 7, out_qsize 0\n",
      "2017-08-26 15:32:14,679 : INFO : PROGRESS: at 74.79% examples, 145860 words/s, in_qsize 8, out_qsize 0\n",
      "2017-08-26 15:32:15,791 : INFO : PROGRESS: at 74.98% examples, 145683 words/s, in_qsize 8, out_qsize 0\n",
      "2017-08-26 15:32:16,821 : INFO : PROGRESS: at 75.15% examples, 145573 words/s, in_qsize 7, out_qsize 0\n",
      "2017-08-26 15:32:17,828 : INFO : PROGRESS: at 75.32% examples, 145419 words/s, in_qsize 8, out_qsize 0\n",
      "2017-08-26 15:32:18,831 : INFO : PROGRESS: at 75.48% examples, 145295 words/s, in_qsize 8, out_qsize 0\n",
      "2017-08-26 15:32:19,883 : INFO : PROGRESS: at 75.63% examples, 145096 words/s, in_qsize 7, out_qsize 0\n",
      "2017-08-26 15:32:20,965 : INFO : PROGRESS: at 75.77% examples, 144859 words/s, in_qsize 8, out_qsize 0\n",
      "2017-08-26 15:32:22,019 : INFO : PROGRESS: at 75.87% examples, 144609 words/s, in_qsize 8, out_qsize 0\n",
      "2017-08-26 15:32:23,040 : INFO : PROGRESS: at 76.04% examples, 144481 words/s, in_qsize 8, out_qsize 0\n",
      "2017-08-26 15:32:24,043 : INFO : PROGRESS: at 76.20% examples, 144392 words/s, in_qsize 8, out_qsize 0\n",
      "2017-08-26 15:32:25,133 : INFO : PROGRESS: at 76.40% examples, 144291 words/s, in_qsize 8, out_qsize 0\n",
      "2017-08-26 15:32:26,256 : INFO : PROGRESS: at 76.59% examples, 144121 words/s, in_qsize 8, out_qsize 0\n",
      "2017-08-26 15:32:27,312 : INFO : PROGRESS: at 76.77% examples, 144009 words/s, in_qsize 8, out_qsize 0\n",
      "2017-08-26 15:32:28,341 : INFO : PROGRESS: at 76.95% examples, 143961 words/s, in_qsize 8, out_qsize 0\n",
      "2017-08-26 15:32:29,454 : INFO : PROGRESS: at 77.12% examples, 143827 words/s, in_qsize 8, out_qsize 0\n",
      "2017-08-26 15:32:30,463 : INFO : PROGRESS: at 77.31% examples, 143790 words/s, in_qsize 8, out_qsize 0\n",
      "2017-08-26 15:32:31,519 : INFO : PROGRESS: at 77.50% examples, 143679 words/s, in_qsize 8, out_qsize 0\n",
      "2017-08-26 15:32:32,567 : INFO : PROGRESS: at 77.67% examples, 143602 words/s, in_qsize 8, out_qsize 0\n",
      "2017-08-26 15:32:33,635 : INFO : PROGRESS: at 77.84% examples, 143516 words/s, in_qsize 8, out_qsize 0\n",
      "2017-08-26 15:32:34,642 : INFO : PROGRESS: at 78.04% examples, 143456 words/s, in_qsize 8, out_qsize 0\n",
      "2017-08-26 15:32:35,654 : INFO : PROGRESS: at 78.17% examples, 143368 words/s, in_qsize 8, out_qsize 0\n",
      "2017-08-26 15:32:36,672 : INFO : PROGRESS: at 78.35% examples, 143304 words/s, in_qsize 8, out_qsize 0\n",
      "2017-08-26 15:32:37,750 : INFO : PROGRESS: at 78.53% examples, 143213 words/s, in_qsize 8, out_qsize 0\n",
      "2017-08-26 15:32:38,851 : INFO : PROGRESS: at 78.68% examples, 143063 words/s, in_qsize 8, out_qsize 0\n",
      "2017-08-26 15:32:39,881 : INFO : PROGRESS: at 78.84% examples, 142918 words/s, in_qsize 8, out_qsize 0\n",
      "2017-08-26 15:32:40,931 : INFO : PROGRESS: at 78.93% examples, 142688 words/s, in_qsize 8, out_qsize 0\n",
      "2017-08-26 15:32:42,010 : INFO : PROGRESS: at 79.06% examples, 142497 words/s, in_qsize 8, out_qsize 0\n",
      "2017-08-26 15:32:43,060 : INFO : PROGRESS: at 79.17% examples, 142294 words/s, in_qsize 8, out_qsize 0\n",
      "2017-08-26 15:32:44,191 : INFO : PROGRESS: at 79.29% examples, 142087 words/s, in_qsize 8, out_qsize 0\n",
      "2017-08-26 15:32:45,313 : INFO : PROGRESS: at 79.42% examples, 141884 words/s, in_qsize 8, out_qsize 0\n",
      "2017-08-26 15:32:46,359 : INFO : PROGRESS: at 79.59% examples, 141788 words/s, in_qsize 8, out_qsize 0\n",
      "2017-08-26 15:32:47,375 : INFO : PROGRESS: at 79.73% examples, 141708 words/s, in_qsize 8, out_qsize 0\n",
      "2017-08-26 15:32:48,558 : INFO : PROGRESS: at 79.86% examples, 141535 words/s, in_qsize 8, out_qsize 0\n",
      "2017-08-26 15:32:49,587 : INFO : PROGRESS: at 80.03% examples, 141445 words/s, in_qsize 8, out_qsize 0\n",
      "2017-08-26 15:32:50,636 : INFO : PROGRESS: at 80.17% examples, 141328 words/s, in_qsize 8, out_qsize 0\n",
      "2017-08-26 15:32:51,710 : INFO : PROGRESS: at 80.29% examples, 141127 words/s, in_qsize 8, out_qsize 0\n",
      "2017-08-26 15:32:52,794 : INFO : PROGRESS: at 80.48% examples, 141018 words/s, in_qsize 7, out_qsize 0\n",
      "2017-08-26 15:32:53,853 : INFO : PROGRESS: at 80.68% examples, 140920 words/s, in_qsize 8, out_qsize 0\n",
      "2017-08-26 15:32:54,925 : INFO : PROGRESS: at 80.88% examples, 140843 words/s, in_qsize 8, out_qsize 0\n",
      "2017-08-26 15:32:55,969 : INFO : PROGRESS: at 81.07% examples, 140781 words/s, in_qsize 8, out_qsize 0\n",
      "2017-08-26 15:32:57,022 : INFO : PROGRESS: at 81.26% examples, 140713 words/s, in_qsize 8, out_qsize 0\n",
      "2017-08-26 15:32:58,062 : INFO : PROGRESS: at 81.47% examples, 140651 words/s, in_qsize 8, out_qsize 0\n",
      "2017-08-26 15:32:59,100 : INFO : PROGRESS: at 81.65% examples, 140589 words/s, in_qsize 8, out_qsize 0\n",
      "2017-08-26 15:33:00,193 : INFO : PROGRESS: at 81.84% examples, 140509 words/s, in_qsize 8, out_qsize 0\n",
      "2017-08-26 15:33:01,194 : INFO : PROGRESS: at 82.05% examples, 140463 words/s, in_qsize 8, out_qsize 0\n",
      "2017-08-26 15:33:02,316 : INFO : PROGRESS: at 82.27% examples, 140370 words/s, in_qsize 8, out_qsize 0\n",
      "2017-08-26 15:33:03,348 : INFO : PROGRESS: at 82.50% examples, 140335 words/s, in_qsize 8, out_qsize 0\n",
      "2017-08-26 15:33:04,432 : INFO : PROGRESS: at 82.65% examples, 140190 words/s, in_qsize 8, out_qsize 0\n",
      "2017-08-26 15:33:05,442 : INFO : PROGRESS: at 82.83% examples, 140093 words/s, in_qsize 7, out_qsize 0\n"
     ]
    },
    {
     "name": "stderr",
     "output_type": "stream",
     "text": [
      "2017-08-26 15:33:06,522 : INFO : PROGRESS: at 83.04% examples, 139995 words/s, in_qsize 8, out_qsize 0\n",
      "2017-08-26 15:33:07,620 : INFO : PROGRESS: at 83.20% examples, 139823 words/s, in_qsize 8, out_qsize 0\n",
      "2017-08-26 15:33:08,665 : INFO : PROGRESS: at 83.32% examples, 139620 words/s, in_qsize 7, out_qsize 0\n",
      "2017-08-26 15:33:09,766 : INFO : PROGRESS: at 83.43% examples, 139398 words/s, in_qsize 7, out_qsize 3\n",
      "2017-08-26 15:33:10,921 : INFO : PROGRESS: at 83.58% examples, 139230 words/s, in_qsize 7, out_qsize 0\n",
      "2017-08-26 15:33:11,997 : INFO : PROGRESS: at 83.71% examples, 139044 words/s, in_qsize 8, out_qsize 0\n",
      "2017-08-26 15:33:13,224 : INFO : PROGRESS: at 83.83% examples, 138783 words/s, in_qsize 6, out_qsize 1\n",
      "2017-08-26 15:33:14,436 : INFO : PROGRESS: at 83.98% examples, 138574 words/s, in_qsize 8, out_qsize 0\n",
      "2017-08-26 15:33:15,550 : INFO : PROGRESS: at 84.11% examples, 138355 words/s, in_qsize 8, out_qsize 0\n",
      "2017-08-26 15:33:16,568 : INFO : PROGRESS: at 84.26% examples, 138215 words/s, in_qsize 8, out_qsize 0\n",
      "2017-08-26 15:33:17,594 : INFO : PROGRESS: at 84.37% examples, 138031 words/s, in_qsize 7, out_qsize 0\n",
      "2017-08-26 15:33:18,709 : INFO : PROGRESS: at 84.57% examples, 137908 words/s, in_qsize 8, out_qsize 0\n",
      "2017-08-26 15:33:19,914 : INFO : PROGRESS: at 84.76% examples, 137751 words/s, in_qsize 8, out_qsize 0\n",
      "2017-08-26 15:33:21,035 : INFO : PROGRESS: at 84.95% examples, 137625 words/s, in_qsize 7, out_qsize 0\n",
      "2017-08-26 15:33:22,046 : INFO : PROGRESS: at 85.10% examples, 137494 words/s, in_qsize 8, out_qsize 0\n",
      "2017-08-26 15:33:23,052 : INFO : PROGRESS: at 85.27% examples, 137413 words/s, in_qsize 8, out_qsize 0\n",
      "2017-08-26 15:33:24,087 : INFO : PROGRESS: at 85.46% examples, 137344 words/s, in_qsize 8, out_qsize 0\n",
      "2017-08-26 15:33:25,148 : INFO : PROGRESS: at 85.66% examples, 137289 words/s, in_qsize 7, out_qsize 0\n",
      "2017-08-26 15:33:26,168 : INFO : PROGRESS: at 85.83% examples, 137179 words/s, in_qsize 8, out_qsize 0\n",
      "2017-08-26 15:33:27,187 : INFO : PROGRESS: at 86.04% examples, 137115 words/s, in_qsize 8, out_qsize 0\n",
      "2017-08-26 15:33:28,248 : INFO : PROGRESS: at 86.23% examples, 137061 words/s, in_qsize 8, out_qsize 0\n",
      "2017-08-26 15:33:29,283 : INFO : PROGRESS: at 86.38% examples, 136926 words/s, in_qsize 8, out_qsize 0\n",
      "2017-08-26 15:33:30,304 : INFO : PROGRESS: at 86.56% examples, 136839 words/s, in_qsize 8, out_qsize 0\n",
      "2017-08-26 15:33:31,391 : INFO : PROGRESS: at 86.77% examples, 136750 words/s, in_qsize 8, out_qsize 0\n",
      "2017-08-26 15:33:32,516 : INFO : PROGRESS: at 86.94% examples, 136631 words/s, in_qsize 8, out_qsize 0\n",
      "2017-08-26 15:33:33,526 : INFO : PROGRESS: at 87.13% examples, 136616 words/s, in_qsize 8, out_qsize 0\n",
      "2017-08-26 15:33:34,664 : INFO : PROGRESS: at 87.31% examples, 136515 words/s, in_qsize 8, out_qsize 0\n",
      "2017-08-26 15:33:35,683 : INFO : PROGRESS: at 87.52% examples, 136498 words/s, in_qsize 8, out_qsize 0\n",
      "2017-08-26 15:33:36,772 : INFO : PROGRESS: at 87.70% examples, 136414 words/s, in_qsize 8, out_qsize 0\n",
      "2017-08-26 15:33:37,862 : INFO : PROGRESS: at 87.89% examples, 136332 words/s, in_qsize 8, out_qsize 0\n",
      "2017-08-26 15:33:38,889 : INFO : PROGRESS: at 88.12% examples, 136313 words/s, in_qsize 8, out_qsize 0\n",
      "2017-08-26 15:33:39,892 : INFO : PROGRESS: at 88.30% examples, 136260 words/s, in_qsize 8, out_qsize 0\n",
      "2017-08-26 15:33:40,933 : INFO : PROGRESS: at 88.44% examples, 136151 words/s, in_qsize 8, out_qsize 0\n",
      "2017-08-26 15:33:42,076 : INFO : PROGRESS: at 88.62% examples, 136051 words/s, in_qsize 8, out_qsize 0\n",
      "2017-08-26 15:33:43,227 : INFO : PROGRESS: at 88.78% examples, 135929 words/s, in_qsize 7, out_qsize 0\n",
      "2017-08-26 15:33:44,274 : INFO : PROGRESS: at 88.97% examples, 135837 words/s, in_qsize 8, out_qsize 0\n",
      "2017-08-26 15:33:45,411 : INFO : PROGRESS: at 89.16% examples, 135719 words/s, in_qsize 8, out_qsize 0\n",
      "2017-08-26 15:33:46,411 : INFO : PROGRESS: at 89.31% examples, 135624 words/s, in_qsize 8, out_qsize 0\n",
      "2017-08-26 15:33:47,472 : INFO : PROGRESS: at 89.47% examples, 135508 words/s, in_qsize 8, out_qsize 0\n",
      "2017-08-26 15:33:48,530 : INFO : PROGRESS: at 89.60% examples, 135354 words/s, in_qsize 7, out_qsize 0\n",
      "2017-08-26 15:33:49,597 : INFO : PROGRESS: at 89.74% examples, 135218 words/s, in_qsize 8, out_qsize 0\n",
      "2017-08-26 15:33:50,604 : INFO : PROGRESS: at 89.88% examples, 135081 words/s, in_qsize 8, out_qsize 0\n",
      "2017-08-26 15:33:51,636 : INFO : PROGRESS: at 90.01% examples, 134937 words/s, in_qsize 8, out_qsize 0\n",
      "2017-08-26 15:33:52,673 : INFO : PROGRESS: at 90.19% examples, 134854 words/s, in_qsize 8, out_qsize 0\n",
      "2017-08-26 15:33:53,715 : INFO : PROGRESS: at 90.37% examples, 134771 words/s, in_qsize 8, out_qsize 0\n",
      "2017-08-26 15:33:54,733 : INFO : PROGRESS: at 90.60% examples, 134756 words/s, in_qsize 8, out_qsize 0\n",
      "2017-08-26 15:33:55,770 : INFO : PROGRESS: at 90.79% examples, 134697 words/s, in_qsize 8, out_qsize 0\n",
      "2017-08-26 15:33:56,794 : INFO : PROGRESS: at 90.97% examples, 134642 words/s, in_qsize 7, out_qsize 0\n",
      "2017-08-26 15:33:57,812 : INFO : PROGRESS: at 91.17% examples, 134611 words/s, in_qsize 8, out_qsize 0\n",
      "2017-08-26 15:33:58,829 : INFO : PROGRESS: at 91.32% examples, 134560 words/s, in_qsize 8, out_qsize 0\n",
      "2017-08-26 15:33:59,985 : INFO : PROGRESS: at 91.52% examples, 134485 words/s, in_qsize 8, out_qsize 0\n",
      "2017-08-26 15:34:01,062 : INFO : PROGRESS: at 91.71% examples, 134418 words/s, in_qsize 8, out_qsize 0\n",
      "2017-08-26 15:34:02,075 : INFO : PROGRESS: at 91.90% examples, 134368 words/s, in_qsize 8, out_qsize 0\n",
      "2017-08-26 15:34:03,120 : INFO : PROGRESS: at 92.05% examples, 134287 words/s, in_qsize 8, out_qsize 0\n",
      "2017-08-26 15:34:04,142 : INFO : PROGRESS: at 92.24% examples, 134257 words/s, in_qsize 7, out_qsize 0\n",
      "2017-08-26 15:34:05,258 : INFO : PROGRESS: at 92.45% examples, 134196 words/s, in_qsize 8, out_qsize 0\n",
      "2017-08-26 15:34:06,316 : INFO : PROGRESS: at 92.63% examples, 134113 words/s, in_qsize 8, out_qsize 0\n",
      "2017-08-26 15:34:07,357 : INFO : PROGRESS: at 92.80% examples, 134013 words/s, in_qsize 8, out_qsize 0\n",
      "2017-08-26 15:34:08,464 : INFO : PROGRESS: at 92.96% examples, 133916 words/s, in_qsize 8, out_qsize 0\n",
      "2017-08-26 15:34:09,565 : INFO : PROGRESS: at 93.13% examples, 133821 words/s, in_qsize 8, out_qsize 0\n",
      "2017-08-26 15:34:10,726 : INFO : PROGRESS: at 93.25% examples, 133644 words/s, in_qsize 8, out_qsize 0\n",
      "2017-08-26 15:34:11,971 : INFO : PROGRESS: at 93.37% examples, 133462 words/s, in_qsize 7, out_qsize 0\n",
      "2017-08-26 15:34:13,012 : INFO : PROGRESS: at 93.49% examples, 133347 words/s, in_qsize 8, out_qsize 0\n",
      "2017-08-26 15:34:14,016 : INFO : PROGRESS: at 93.61% examples, 133224 words/s, in_qsize 8, out_qsize 0\n",
      "2017-08-26 15:34:15,018 : INFO : PROGRESS: at 93.72% examples, 133082 words/s, in_qsize 7, out_qsize 0\n",
      "2017-08-26 15:34:16,144 : INFO : PROGRESS: at 93.87% examples, 132961 words/s, in_qsize 8, out_qsize 0\n",
      "2017-08-26 15:34:17,234 : INFO : PROGRESS: at 94.04% examples, 132872 words/s, in_qsize 8, out_qsize 0\n",
      "2017-08-26 15:34:18,361 : INFO : PROGRESS: at 94.21% examples, 132772 words/s, in_qsize 8, out_qsize 0\n",
      "2017-08-26 15:34:19,413 : INFO : PROGRESS: at 94.36% examples, 132655 words/s, in_qsize 8, out_qsize 0\n",
      "2017-08-26 15:34:20,442 : INFO : PROGRESS: at 94.49% examples, 132507 words/s, in_qsize 8, out_qsize 0\n",
      "2017-08-26 15:34:21,497 : INFO : PROGRESS: at 94.64% examples, 132411 words/s, in_qsize 8, out_qsize 0\n",
      "2017-08-26 15:34:22,549 : INFO : PROGRESS: at 94.79% examples, 132297 words/s, in_qsize 8, out_qsize 0\n",
      "2017-08-26 15:34:23,623 : INFO : PROGRESS: at 94.93% examples, 132157 words/s, in_qsize 8, out_qsize 0\n",
      "2017-08-26 15:34:24,652 : INFO : PROGRESS: at 95.10% examples, 132108 words/s, in_qsize 8, out_qsize 0\n",
      "2017-08-26 15:34:25,787 : INFO : PROGRESS: at 95.29% examples, 132011 words/s, in_qsize 8, out_qsize 0\n",
      "2017-08-26 15:34:26,893 : INFO : PROGRESS: at 95.41% examples, 131863 words/s, in_qsize 8, out_qsize 0\n",
      "2017-08-26 15:34:27,895 : INFO : PROGRESS: at 95.55% examples, 131764 words/s, in_qsize 8, out_qsize 0\n",
      "2017-08-26 15:34:28,901 : INFO : PROGRESS: at 95.70% examples, 131667 words/s, in_qsize 7, out_qsize 0\n",
      "2017-08-26 15:34:29,923 : INFO : PROGRESS: at 95.84% examples, 131565 words/s, in_qsize 8, out_qsize 0\n",
      "2017-08-26 15:34:30,952 : INFO : PROGRESS: at 96.02% examples, 131520 words/s, in_qsize 8, out_qsize 0\n"
     ]
    },
    {
     "name": "stderr",
     "output_type": "stream",
     "text": [
      "2017-08-26 15:34:32,022 : INFO : PROGRESS: at 96.12% examples, 131368 words/s, in_qsize 8, out_qsize 0\n",
      "2017-08-26 15:34:33,083 : INFO : PROGRESS: at 96.26% examples, 131276 words/s, in_qsize 8, out_qsize 0\n",
      "2017-08-26 15:34:34,111 : INFO : PROGRESS: at 96.46% examples, 131252 words/s, in_qsize 8, out_qsize 0\n",
      "2017-08-26 15:34:35,203 : INFO : PROGRESS: at 96.61% examples, 131112 words/s, in_qsize 8, out_qsize 0\n",
      "2017-08-26 15:34:36,239 : INFO : PROGRESS: at 96.74% examples, 130991 words/s, in_qsize 8, out_qsize 0\n",
      "2017-08-26 15:34:37,266 : INFO : PROGRESS: at 96.84% examples, 130855 words/s, in_qsize 7, out_qsize 0\n",
      "2017-08-26 15:34:38,304 : INFO : PROGRESS: at 96.96% examples, 130750 words/s, in_qsize 8, out_qsize 0\n",
      "2017-08-26 15:34:39,327 : INFO : PROGRESS: at 97.11% examples, 130692 words/s, in_qsize 8, out_qsize 0\n",
      "2017-08-26 15:34:40,354 : INFO : PROGRESS: at 97.23% examples, 130575 words/s, in_qsize 8, out_qsize 0\n",
      "2017-08-26 15:34:41,418 : INFO : PROGRESS: at 97.35% examples, 130448 words/s, in_qsize 8, out_qsize 0\n",
      "2017-08-26 15:34:42,533 : INFO : PROGRESS: at 97.52% examples, 130363 words/s, in_qsize 8, out_qsize 0\n",
      "2017-08-26 15:34:43,607 : INFO : PROGRESS: at 97.63% examples, 130249 words/s, in_qsize 7, out_qsize 0\n",
      "2017-08-26 15:34:44,621 : INFO : PROGRESS: at 97.78% examples, 130180 words/s, in_qsize 8, out_qsize 0\n",
      "2017-08-26 15:34:45,680 : INFO : PROGRESS: at 97.91% examples, 130077 words/s, in_qsize 7, out_qsize 0\n",
      "2017-08-26 15:34:46,733 : INFO : PROGRESS: at 98.04% examples, 129975 words/s, in_qsize 8, out_qsize 0\n",
      "2017-08-26 15:34:47,743 : INFO : PROGRESS: at 98.18% examples, 129940 words/s, in_qsize 8, out_qsize 0\n",
      "2017-08-26 15:34:48,758 : INFO : PROGRESS: at 98.34% examples, 129887 words/s, in_qsize 8, out_qsize 0\n",
      "2017-08-26 15:34:49,806 : INFO : PROGRESS: at 98.51% examples, 129861 words/s, in_qsize 8, out_qsize 0\n",
      "2017-08-26 15:34:50,918 : INFO : PROGRESS: at 98.61% examples, 129705 words/s, in_qsize 8, out_qsize 0\n",
      "2017-08-26 15:34:51,937 : INFO : PROGRESS: at 98.75% examples, 129593 words/s, in_qsize 8, out_qsize 0\n",
      "2017-08-26 15:34:53,023 : INFO : PROGRESS: at 98.88% examples, 129504 words/s, in_qsize 8, out_qsize 0\n",
      "2017-08-26 15:34:54,063 : INFO : PROGRESS: at 99.04% examples, 129460 words/s, in_qsize 8, out_qsize 0\n",
      "2017-08-26 15:34:55,157 : INFO : PROGRESS: at 99.21% examples, 129421 words/s, in_qsize 8, out_qsize 0\n",
      "2017-08-26 15:34:56,184 : INFO : PROGRESS: at 99.37% examples, 129383 words/s, in_qsize 8, out_qsize 0\n",
      "2017-08-26 15:34:57,221 : INFO : PROGRESS: at 99.53% examples, 129342 words/s, in_qsize 8, out_qsize 0\n",
      "2017-08-26 15:34:58,248 : INFO : PROGRESS: at 99.69% examples, 129293 words/s, in_qsize 8, out_qsize 0\n",
      "2017-08-26 15:34:59,259 : INFO : PROGRESS: at 99.77% examples, 129184 words/s, in_qsize 8, out_qsize 0\n",
      "2017-08-26 15:35:00,397 : INFO : PROGRESS: at 99.90% examples, 129070 words/s, in_qsize 7, out_qsize 0\n",
      "2017-08-26 15:35:00,810 : INFO : worker thread finished; awaiting finish of 3 more threads\n",
      "2017-08-26 15:35:00,856 : INFO : worker thread finished; awaiting finish of 2 more threads\n",
      "2017-08-26 15:35:00,928 : INFO : worker thread finished; awaiting finish of 1 more threads\n",
      "2017-08-26 15:35:01,019 : INFO : worker thread finished; awaiting finish of 0 more threads\n",
      "2017-08-26 15:35:01,025 : INFO : training on 70948790 raw words (62852398 effective words) took 487.1s, 129037 effective words/s\n",
      "2017-08-26 15:35:01,045 : INFO : precomputing L2-norms of word weight vectors\n",
      "2017-08-26 15:35:02,256 : INFO : saving Word2Vec object under 300features_1000minwords_10context, separately None\n",
      "2017-08-26 15:35:02,262 : INFO : not storing attribute syn0norm\n",
      "2017-08-26 15:35:02,266 : INFO : not storing attribute cum_table\n",
      "2017-08-26 15:35:03,185 : INFO : saved 300features_1000minwords_10context\n"
     ]
    }
   ],
   "source": [
    "from gensim.models import word2vec\n",
    "print \"Training model...\"\n",
    "model = word2vec.Word2Vec(sentences, workers=num_workers, \\\n",
    "            size=num_features, min_count = min_word_count, \\\n",
    "            window = context)\n",
    "\n",
    "# If you don't plan to train the model any further, calling \n",
    "# init_sims will make the model much more memory-efficient.\n",
    "model.init_sims(replace=True)\n",
    "\n",
    "# It can be helpful to create a meaningful model name and \n",
    "# save the model for later use. You can load it later using Word2Vec.load()\n",
    "model_name = \"300features_1000minwords_10context\"\n",
    "model.save(model_name)"
   ]
  },
  {
   "cell_type": "code",
   "execution_count": 181,
   "metadata": {},
   "outputs": [
    {
     "data": {
      "text/plain": [
       "u'kitchen'"
      ]
     },
     "execution_count": 181,
     "metadata": {},
     "output_type": "execute_result"
    }
   ],
   "source": [
    "model.doesnt_match(\"man woman child school kid kitchen\".split())"
   ]
  },
  {
   "cell_type": "code",
   "execution_count": 182,
   "metadata": {},
   "outputs": [
    {
     "data": {
      "text/plain": [
       "u'one'"
      ]
     },
     "execution_count": 182,
     "metadata": {},
     "output_type": "execute_result"
    }
   ],
   "source": [
    "model.doesnt_match(\"good bad like one\".split())"
   ]
  },
  {
   "cell_type": "code",
   "execution_count": 185,
   "metadata": {
    "scrolled": true
   },
   "outputs": [
    {
     "data": {
      "text/plain": [
       "[('horribl', 0.6240944862365723),\n",
       " ('terribl', 0.6232780814170837),\n",
       " ('gross', 0.5789059400558472),\n",
       " ('nasti', 0.5590345859527588),\n",
       " ('disgust', 0.5295305252075195),\n",
       " ('horrid', 0.52089524269104),\n",
       " ('foul', 0.5197350978851318),\n",
       " ('weird', 0.5058931112289429),\n",
       " ('wors', 0.4976487159729004),\n",
       " ('yuck', 0.4943099319934845)]"
      ]
     },
     "execution_count": 185,
     "metadata": {},
     "output_type": "execute_result"
    }
   ],
   "source": [
    "model.most_similar(\"bad\")"
   ]
  },
  {
   "cell_type": "code",
   "execution_count": 186,
   "metadata": {
    "scrolled": false
   },
   "outputs": [
    {
     "name": "stdout",
     "output_type": "stream",
     "text": [
      "(8523, 300)\n",
      "Feature vector of the word 'Food' is\n",
      "[ -1.39354073e-04  -2.62190178e-02   1.13723278e-01   4.14719731e-02\n",
      "   5.97785600e-02   5.44529362e-03   5.03265709e-02  -4.96117473e-02\n",
      "  -3.73242870e-02  -3.38950120e-02   1.17874201e-02   2.55004354e-02\n",
      "  -2.78128739e-02  -1.13007277e-01   9.37902480e-02  -1.08907163e-01\n",
      "  -4.38244566e-02  -1.01837199e-02  -9.21475887e-03   6.74026599e-03\n",
      "   2.96012908e-02   8.13033357e-02  -7.32902959e-02  -1.23700619e-01\n",
      "   2.37608943e-02  -4.48867045e-02   1.76811442e-02  -5.31681851e-02\n",
      "   5.42811528e-02   6.33866191e-02   3.75116616e-02   1.55793000e-02\n",
      "   3.59844491e-02  -1.16773896e-01  -5.45966327e-02  -4.00592312e-02\n",
      "  -7.05440864e-02  -6.06055148e-02  -4.39760042e-03  -6.38230219e-02\n",
      "   4.54389602e-02   8.10680687e-02  -7.53196180e-02   1.83801856e-02\n",
      "   2.35074516e-02   1.48817003e-02   1.82869583e-02   1.25229603e-03\n",
      "  -6.93182275e-02   2.83265729e-02  -5.59384935e-02  -5.30121848e-02\n",
      "   4.54410799e-02   6.63473606e-02   3.04884650e-02  -1.25268802e-01\n",
      "   5.68362372e-03  -5.90104470e-03   2.26104055e-02  -6.83616623e-02\n",
      "  -1.89250726e-02  -3.96657363e-03  -7.13237897e-02  -4.21330482e-02\n",
      "  -3.31787504e-02  -2.73185894e-02   7.85844028e-02   5.82047142e-02\n",
      "  -2.81399656e-02  -1.37251252e-02   1.34708453e-02   1.02515391e-03\n",
      "  -7.42329378e-03   2.49970444e-02  -4.54757456e-03  -4.32784110e-03\n",
      "   7.09833652e-02  -1.16937265e-01   2.75010392e-02   4.38292772e-02\n",
      "  -4.11150120e-02   4.24062200e-02  -1.54068526e-02  -7.01350570e-02\n",
      "   1.07701398e-01  -5.25969416e-02   3.12523395e-02  -2.89793909e-02\n",
      "   6.65960833e-02  -2.69413721e-02   3.16605978e-02  -3.17801014e-02\n",
      "   6.75272122e-02   2.63194144e-02  -3.08367470e-03   2.47973688e-02\n",
      "  -4.86169942e-02  -5.03290407e-02   3.49022187e-02  -3.77182961e-02\n",
      "   4.46540304e-02   3.07053979e-02   3.50099206e-02  -1.14815265e-01\n",
      "   2.39626430e-02  -4.93109599e-02  -1.20024331e-01   1.02234580e-01\n",
      "   9.27016512e-03   1.62902493e-02  -5.24700172e-02   1.01023223e-02\n",
      "  -2.00191326e-02   6.58611357e-02  -5.62749729e-02  -8.75924528e-02\n",
      "  -7.27423141e-03  -8.03106502e-02   3.90777588e-02   2.14570668e-02\n",
      "  -7.02020302e-02  -6.96068704e-02  -1.06864326e-01  -3.86522226e-02\n",
      "  -2.92177144e-02  -1.33620435e-02  -1.23007561e-03  -6.98155630e-03\n",
      "  -4.60684113e-02   2.05086991e-02   6.14103489e-02  -9.24280006e-03\n",
      "  -3.10394708e-02   3.34226228e-02  -8.87763873e-02  -6.19639270e-02\n",
      "  -5.92506640e-02  -5.36742546e-02   7.78722018e-03  -3.78343090e-02\n",
      "  -5.33204265e-02   4.18242961e-02  -4.14553396e-02   2.50021685e-02\n",
      "  -7.89255053e-02   6.21416382e-02  -5.53686768e-02   3.46698724e-02\n",
      "   4.17040698e-02   4.57549933e-03  -2.92604323e-02  -1.79613028e-02\n",
      "   7.88452551e-02   4.06047562e-03  -4.48721685e-02   4.80110338e-03\n",
      "  -3.17305811e-02  -9.70290881e-03   3.47985514e-02   8.74938443e-02\n",
      "  -3.97739094e-03  -7.80456811e-02   2.56243553e-02  -1.19237408e-01\n",
      "  -1.76286343e-02  -1.00577809e-01   4.65658382e-02   2.46574469e-02\n",
      "  -9.60859209e-02  -6.45972639e-02   4.16697823e-02   1.63554147e-01\n",
      "  -1.26878507e-02   5.76891527e-02  -2.50693019e-02   5.66579700e-02\n",
      "   4.08827253e-02  -2.17513051e-02   2.29605120e-02  -2.67530344e-02\n",
      "   2.46863998e-02  -1.27245054e-01  -5.44339754e-02  -1.43931344e-01\n",
      "   1.48599083e-03   5.69841731e-03  -3.54966782e-02   2.97400430e-02\n",
      "  -1.18369944e-01   2.29586363e-02  -3.90544124e-02  -3.26784290e-02\n",
      "  -5.05163744e-02   7.31308805e-03  -2.84692105e-02  -2.65324283e-02\n",
      "  -6.60523847e-02  -4.83773015e-02  -1.53766237e-02  -1.26871824e-01\n",
      "  -4.96721677e-02   8.08202028e-02  -2.00783610e-02  -1.06573276e-01\n",
      "   3.62429507e-02   2.38109170e-03   1.22204199e-01  -7.77318850e-02\n",
      "  -4.81505021e-02  -1.28613055e-01   6.74613714e-02  -1.62338898e-01\n",
      "   1.18358716e-01  -4.80743088e-02   5.55215925e-02   5.35239503e-02\n",
      "   5.93723692e-02   1.82937775e-02   3.14061008e-02   3.79551947e-02\n",
      "   7.01769292e-02   7.90464431e-02   1.24403613e-03   3.82442847e-02\n",
      "   3.80813628e-02  -1.79345533e-02  -5.94746545e-02  -6.40737787e-02\n",
      "  -6.31543919e-02   1.12904822e-02   1.07691258e-01  -6.00327514e-02\n",
      "  -6.01705946e-02   1.67881791e-02  -2.70011369e-02   4.43392619e-02\n",
      "  -3.75006511e-03  -4.64829952e-02  -3.75875235e-02   9.75883529e-02\n",
      "   7.16070682e-02   5.19304462e-02   6.34034805e-04  -6.11865567e-03\n",
      "  -1.20644718e-01  -6.23370595e-02  -4.13571531e-03   3.72521719e-03\n",
      "   9.69208553e-02   8.42913911e-02   6.17510490e-02   1.23947840e-02\n",
      "   4.30271728e-03   3.27370204e-02  -1.81579944e-02   2.33780202e-02\n",
      "  -1.02339098e-02   7.51463249e-02   8.11715424e-03  -2.17487663e-02\n",
      "   2.73575298e-02   1.01848207e-01  -4.24555922e-03   7.01344013e-02\n",
      "   1.37878228e-02   3.16385040e-03  -1.52999656e-02  -1.27912223e-01\n",
      "  -6.69550076e-02  -3.93269174e-02   2.22504102e-02   6.87603503e-02\n",
      "   4.21780813e-03  -3.79025303e-02   4.61754389e-02  -4.13712375e-02\n",
      "  -2.34459825e-02   6.87754303e-02  -8.88228044e-03   2.34472323e-02\n",
      "  -8.41832086e-02  -1.29802942e-01   8.85603875e-02  -6.38986453e-02\n",
      "  -8.04490075e-02   1.41699957e-02   9.18171853e-02  -1.31423445e-02\n",
      "  -1.24966437e-02   1.05620362e-01   3.81982848e-02  -1.52832000e-02\n",
      "   9.21352655e-02  -4.04370064e-03   2.97065433e-02   5.70667349e-02\n",
      "   3.98889594e-02   2.96793729e-02  -7.75533691e-02   2.03213794e-03]\n"
     ]
    }
   ],
   "source": [
    "print model.syn1neg.shape\n",
    "print \"Feature vector of the word 'Food' is\\n\",model['food']"
   ]
  },
  {
   "cell_type": "markdown",
   "metadata": {},
   "source": [
    "This seems the model is performing pretty well. For the most influential 8.5K words, we have got the word emmbeddings of size 300. Now using these word embeddings, we need to find the feature vectors for the reviews we have. \n",
    "\n",
    "### Vector Averaging\n",
    "One challenge with the fine food dataset is the variable-length reviews. We need to find a way to take individual word vectors and transform them into a feature set that is the same length for every review.\n",
    "\n",
    "Since each word is a vector in 300-dimensional space, we can use vector operations to combine the words in each review. One method we tried was to simply average the word vectors in a given review. \n",
    "\n",
    "**Our aim is that each review is to be represented by a vector of same length. **"
   ]
  },
  {
   "cell_type": "code",
   "execution_count": 233,
   "metadata": {
    "collapsed": true
   },
   "outputs": [],
   "source": [
    "# For each cleaned review, check whether the word is in the model or not\n",
    "# If the word is present, consider its word_embedding and add it to the existing feature vector\n",
    "# Else, ignore the word \n",
    "# The final feature vector is divided by the number of words considered \n",
    "# in the review to get the avg. feature vector\n",
    "\n",
    "# We are finding the feature vectors for both train and test data.\n",
    "# Once we get both, we can segregate train by indexing from 0 to int(0.7*len(final) for train\n",
    "# int(0.7*len(final)) to end for test\n",
    "\n",
    "index2word_set = set(model.wv.index2word)\n",
    "reviewFeatureVecs = np.zeros((len(final),num_features),dtype=\"float32\")\n",
    "counter = 0\n",
    "for review in final['Clean_text'].values:\n",
    "    # Each review is a set of words\n",
    "    featureVec = np.zeros((num_features,),dtype=\"float32\")\n",
    "    num_words = 0\n",
    "    for word in review:\n",
    "        if word in index2word_set:\n",
    "            num_words+=1\n",
    "            featureVec = np.add(featureVec,model[word])\n",
    "    if num_words>0:\n",
    "        featureVec = np.divide(featureVec, num_words)\n",
    "    reviewFeatureVecs[counter] = featureVec\n",
    "    counter = counter+1"
   ]
  },
  {
   "cell_type": "code",
   "execution_count": 238,
   "metadata": {},
   "outputs": [
    {
     "name": "stdout",
     "output_type": "stream",
     "text": [
      "Train dataset shape:  (254921, 300)\n",
      "Test dataset shape:  (109252, 300)\n"
     ]
    }
   ],
   "source": [
    "trainFeatureVec = reviewFeatureVecs[:int(0.7*len(final)),:]\n",
    "testFeatureVec = reviewFeatureVecs[int(0.7*len(final)):,:]\n",
    "print \"Train dataset shape: \",trainFeatureVec.shape\n",
    "print \"Test dataset shape: \",testFeatureVec.shape"
   ]
  },
  {
   "cell_type": "markdown",
   "metadata": {},
   "source": [
    "Now we got the train and test data sets, we now use different classification techniques to predict the 'Score' of test dataset.\n",
    "We shall do\n",
    "1. Random Forests"
   ]
  },
  {
   "cell_type": "code",
   "execution_count": 240,
   "metadata": {
    "scrolled": true
   },
   "outputs": [
    {
     "name": "stdout",
     "output_type": "stream",
     "text": [
      "Fitting a random forest to labeled training data...\n"
     ]
    },
    {
     "name": "stderr",
     "output_type": "stream",
     "text": [
      "/usr/local/lib/python2.7/dist-packages/ipykernel_launcher.py:5: DataConversionWarning: A column-vector y was passed when a 1d array was expected. Please change the shape of y to (n_samples,), for example using ravel().\n",
      "  \"\"\"\n"
     ]
    }
   ],
   "source": [
    "from sklearn.ensemble import RandomForestClassifier\n",
    "forest = RandomForestClassifier(n_estimators = 10)\n",
    "\n",
    "print \"Fitting a random forest to labeled training data...\"\n",
    "forest = forest.fit(trainFeatureVec, train_label)\n",
    "\n",
    "# Test & extract results \n",
    "result = forest.predict(testFeatureVec)\n",
    "# Write the test results \n",
    "output = pd.DataFrame( data={\"id\":test_set['Id'], \"sentiment\":result} )\n",
    "output.to_csv( \"Word2Vec_AverageVectors.csv\", index=False, quoting=3 )"
   ]
  },
  {
   "cell_type": "code",
   "execution_count": 279,
   "metadata": {},
   "outputs": [
    {
     "data": {
      "text/plain": [
       "array([[87385,  3510],\n",
       "       [ 9634,  8723]])"
      ]
     },
     "execution_count": 279,
     "metadata": {},
     "output_type": "execute_result"
    }
   ],
   "source": [
    "predicted =  output.iloc[:,1]\n",
    "from sklearn.metrics import confusion_matrix\n",
    "cm=confusion_matrix(test_label, predicted,labels=['positive','negative'])\n",
    "cm"
   ]
  },
  {
   "cell_type": "markdown",
   "metadata": {},
   "source": [
    "By definition a confusion matrix C is such that $C_{i, j}$ is equal to the number of observations known to be in group i but predicted to be in group j. Thus in binary classification, the count of true positives is $C_{0,0}$, false positive is $C_{1,0}$, true negatives is $C_{1,1}$ and false negatives is $C_{0,1}$.\n"
   ]
  },
  {
   "cell_type": "code",
   "execution_count": 288,
   "metadata": {},
   "outputs": [
    {
     "name": "stdout",
     "output_type": "stream",
     "text": [
      "precision_positive  0.961384014522 \n",
      "precision_negative  0.475186577327\n",
      "recall_positive  0.900699862913 \n",
      "recall_negative  0.71307120085\n",
      "Accuracy  0.879690989639\n"
     ]
    }
   ],
   "source": [
    "TP = float(cm[0][0]) # We predicted 'Positive' and actually 'Positive'\n",
    "TN = float(cm[1][1]) # We predicted 'Negative' and actually 'Negative'\n",
    "FP = float(cm[0][1]) # We predicted 'Positive' but actually 'Negative'\n",
    "FN = float(cm[1][0]) # We predicted 'Negative' but actually 'Positive'\n",
    "\n",
    "# Precision:  If we predict 'Yes', how often we are correct?\n",
    "# Precision = TP/(Predicted Yes)\n",
    "precision_positive = TP/(TP+FP)\n",
    "precision_negative = TN/(TN+FN)\n",
    "\n",
    "# Recall: when it is actually yes, how often did we predict yes? \n",
    "# Recall = TP/(Actual Yes)\n",
    "recall_positive = TP/(TP+FN)\n",
    "recall_negative = TN/(TN+FP)\n",
    "\n",
    "accuracy = (TP+TN)/(TP+TN+FP+FN)\n",
    "\n",
    "print 'precision_positive ', precision_positive,'\\n', 'precision_negative ',precision_negative\n",
    "print 'recall_positive ', recall_positive, '\\n', 'recall_negative ', recall_negative\n",
    "print 'Accuracy ', accuracy"
   ]
  },
  {
   "cell_type": "code",
   "execution_count": 300,
   "metadata": {
    "scrolled": true
   },
   "outputs": [
    {
     "name": "stdout",
     "output_type": "stream",
     "text": [
      "Confusion matrix, without normalization\n",
      "[[87385  3510]\n",
      " [ 9634  8723]]\n"
     ]
    }
   ],
   "source": [
    "import itertools\n",
    "import matplotlib.pyplot as plt\n",
    "\n",
    "def plot_confusion_matrix(cm, classes,\n",
    "                          normalize=False,\n",
    "                          title='Confusion matrix',\n",
    "                          cmap=plt.cm.Blues):\n",
    "    \"\"\"\n",
    "    This function prints and plots the confusion matrix.\n",
    "    Normalization can be applied by setting `normalize=True`.\n",
    "    \"\"\"\n",
    "    if normalize:\n",
    "        cm = cm.astype('float') / cm.sum(axis=1)[:, np.newaxis]\n",
    "        print(\"Normalized confusion matrix\")\n",
    "    else:\n",
    "        print('Confusion matrix, without normalization')\n",
    "\n",
    "    print(cm)\n",
    "\n",
    "    plt.imshow(cm, interpolation='nearest', cmap=cmap)\n",
    "    plt.title(title)\n",
    "    plt.colorbar()\n",
    "    tick_marks = np.arange(len(classes))\n",
    "    plt.xticks(tick_marks, classes, rotation=45)\n",
    "    plt.yticks(tick_marks, classes)\n",
    "\n",
    "    fmt = '.2f' if normalize else 'd'\n",
    "    thresh = cm.max() / 2.\n",
    "    for i, j in itertools.product(range(cm.shape[0]), range(cm.shape[1])):\n",
    "        plt.text(j, i, format(cm[i, j], fmt),\n",
    "                 horizontalalignment=\"center\",\n",
    "                 color=\"white\" if cm[i, j] > thresh else \"black\")\n",
    "\n",
    "    plt.tight_layout()\n",
    "    plt.ylabel('True label')\n",
    "    plt.xlabel('Predicted label')\n",
    "\n",
    "\n",
    "# Plot non-normalized confusion matrix\n",
    "plt.figure()\n",
    "plot_confusion_matrix(cm, ['positive', 'negative'],\n",
    "                      title='Confusion matrix, without normalization')"
   ]
  },
  {
   "cell_type": "code",
   "execution_count": 301,
   "metadata": {
    "scrolled": true
   },
   "outputs": [
    {
     "name": "stdout",
     "output_type": "stream",
     "text": [
      "Normalized confusion matrix\n",
      "[[ 0.96  0.04]\n",
      " [ 0.52  0.48]]\n"
     ]
    },
    {
     "data": {
      "image/png": "[encoded data removed]",
      "text/plain": [
       "<matplotlib.figure.Figure at 0x7fb67811cd10>"
      ]
     },
     "metadata": {},
     "output_type": "display_data"
    },
    {
     "data": {
      "image/png": "[encoded data removed]",
      "text/plain": [
       "<matplotlib.figure.Figure at 0x7fb6780fcdd0>"
      ]
     },
     "metadata": {},
     "output_type": "display_data"
    }
   ],
   "source": [
    "plt.figure()random forest\n",
    "plot_confusion_matrix(cm, ['positive', 'negative'], normalize=True,\n",
    "                      title='Normalized confusion matrix')\n",
    "plt.show()"
   ]
  },
  {
   "cell_type": "markdown",
   "metadata": {},
   "source": [
    "Source: \n",
    "http://snap.stanford.edu/data/web-FineFoods.html \n",
    "https://www.kaggle.com/snap/amazon-fine-food-reviews\n"
   ]
  }
 ],
 "metadata": {
  "kernelspec": {
   "display_name": "Python 2",
   "language": "python",
   "name": "python2"
  },
  "language_info": {
   "codemirror_mode": {
    "name": "ipython",
    "version": 2
   },
   "file_extension": ".py",
   "mimetype": "text/x-python",
   "name": "python",
   "nbconvert_exporter": "python",
   "pygments_lexer": "ipython2",
   "version": "2.7.12"
  }
 },
 "nbformat": 4,
 "nbformat_minor": 2
}
